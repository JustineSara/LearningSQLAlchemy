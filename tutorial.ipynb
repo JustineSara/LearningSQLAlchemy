{
 "cells": [
  {
   "cell_type": "markdown",
   "id": "8f925848",
   "metadata": {},
   "source": [
    "https://docs.sqlalchemy.org/en/20/tutorial/index.html#unified-tutorial"
   ]
  },
  {
   "cell_type": "code",
   "execution_count": 100,
   "id": "1d16463f",
   "metadata": {},
   "outputs": [],
   "source": [
    "import sqlalchemy"
   ]
  },
  {
   "cell_type": "code",
   "execution_count": 101,
   "id": "17ab7783",
   "metadata": {},
   "outputs": [
    {
     "data": {
      "text/plain": [
       "'2.0.21'"
      ]
     },
     "execution_count": 101,
     "metadata": {},
     "output_type": "execute_result"
    }
   ],
   "source": [
    "sqlalchemy.__version__ "
   ]
  },
  {
   "cell_type": "code",
   "execution_count": null,
   "id": "7626d2c1",
   "metadata": {},
   "outputs": [],
   "source": []
  },
  {
   "cell_type": "markdown",
   "id": "456d0412",
   "metadata": {},
   "source": [
    "https://docs.sqlalchemy.org/en/20/tutorial/engine.html"
   ]
  },
  {
   "cell_type": "code",
   "execution_count": 102,
   "id": "06d35934",
   "metadata": {},
   "outputs": [],
   "source": [
    "# the engine is the thing that connects to the DB : it is the echange point between code and DB (I think)\n",
    "\n",
    "# here we connect to an in-memory-only SQLite database\n",
    "\n",
    "from sqlalchemy import create_engine\n",
    "engine = create_engine(\"sqlite+pysqlite:///:memory:\", echo=True)\n",
    "#                       ^^^^^^^^^^^^^^^^^^^^^^^^^^^^ = URL\n",
    "#                       ^^^^^                        = type of DB => important to choose the right Dialect (aka how to talk with each other ?)\n",
    "#                              ^^^^^^^^              = DBAPI (Python Database API Specification) third party driver, if omitted sqlAlchemy will go to default\n",
    "#                                          ^^^^^^^^  = DB location : here in memory (specific to sqlite)\n"
   ]
  },
  {
   "cell_type": "code",
   "execution_count": 103,
   "id": "553447a5",
   "metadata": {},
   "outputs": [
    {
     "data": {
      "text/plain": [
       "Engine(sqlite+pysqlite:///:memory:)"
      ]
     },
     "execution_count": 103,
     "metadata": {},
     "output_type": "execute_result"
    }
   ],
   "source": [
    "engine"
   ]
  },
  {
   "cell_type": "code",
   "execution_count": null,
   "id": "116bdd89",
   "metadata": {},
   "outputs": [],
   "source": []
  },
  {
   "cell_type": "markdown",
   "id": "90c06e8d",
   "metadata": {},
   "source": [
    "https://docs.sqlalchemy.org/en/20/tutorial/dbapi_transactions.html"
   ]
  },
  {
   "cell_type": "code",
   "execution_count": 104,
   "id": "df423dd3",
   "metadata": {},
   "outputs": [
    {
     "name": "stdout",
     "output_type": "stream",
     "text": [
      "2023-10-31 21:37:10,540 INFO sqlalchemy.engine.Engine BEGIN (implicit)\n",
      "2023-10-31 21:37:10,544 INFO sqlalchemy.engine.Engine select 'hello world'\n",
      "2023-10-31 21:37:10,545 INFO sqlalchemy.engine.Engine [generated in 0.00557s] ()\n",
      "[('hello world',)]\n",
      "2023-10-31 21:37:10,552 INFO sqlalchemy.engine.Engine ROLLBACK\n"
     ]
    }
   ],
   "source": [
    "from sqlalchemy import text\n",
    "\n",
    "with engine.connect() as conn:\n",
    "    result = conn.execute(text(\"select 'hello world'\"))\n",
    "    print(result.all())\n",
    "    \n",
    "# ROLLBACK at the end :\n",
    "# The transaction is not committed automatically\n",
    "# “autocommit” mode is available for special cases.\n"
   ]
  },
  {
   "cell_type": "code",
   "execution_count": 105,
   "id": "10f70166",
   "metadata": {},
   "outputs": [
    {
     "name": "stdout",
     "output_type": "stream",
     "text": [
      "[]\n"
     ]
    }
   ],
   "source": [
    "\n",
    "# result object : \n",
    "# it’s best to ensure this object is consumed within the “connect” block,\n",
    "# and is not passed along outside of the scope of our connection.\n",
    "print(result.all())"
   ]
  },
  {
   "cell_type": "code",
   "execution_count": 106,
   "id": "1320a4d8",
   "metadata": {},
   "outputs": [
    {
     "name": "stdout",
     "output_type": "stream",
     "text": [
      "2023-10-31 21:37:28,920 INFO sqlalchemy.engine.Engine BEGIN (implicit)\n",
      "2023-10-31 21:37:28,921 INFO sqlalchemy.engine.Engine CREATE TABLE test_empty (x int, y int)\n",
      "2023-10-31 21:37:28,922 INFO sqlalchemy.engine.Engine [generated in 0.00299s] ()\n",
      "2023-10-31 21:37:28,924 INFO sqlalchemy.engine.Engine ROLLBACK\n"
     ]
    }
   ],
   "source": [
    "with engine.connect() as conn:\n",
    "    conn.execute(text(\"CREATE TABLE test_empty (x int, y int)\"))"
   ]
  },
  {
   "cell_type": "code",
   "execution_count": 113,
   "id": "3e759f63",
   "metadata": {},
   "outputs": [
    {
     "name": "stdout",
     "output_type": "stream",
     "text": [
      "2023-10-31 21:42:40,393 INFO sqlalchemy.engine.Engine BEGIN (implicit)\n",
      "1\n",
      "2023-10-31 21:42:40,396 INFO sqlalchemy.engine.Engine SELECT x, y FROM test_empty2 WHERE x = ?\n",
      "2023-10-31 21:42:40,397 INFO sqlalchemy.engine.Engine [generated in 0.00134s] (1,)\n",
      "2023-10-31 21:42:40,398 INFO sqlalchemy.engine.Engine ROLLBACK\n"
     ]
    },
    {
     "ename": "OperationalError",
     "evalue": "(sqlite3.OperationalError) no such table: test_empty2\n[SQL: SELECT x, y FROM test_empty2 WHERE x = ?]\n[parameters: (1,)]\n(Background on this error at: https://sqlalche.me/e/20/e3q8)",
     "output_type": "error",
     "traceback": [
      "\u001b[1;31m---------------------------------------------------------------------------\u001b[0m",
      "\u001b[1;31mOperationalError\u001b[0m                          Traceback (most recent call last)",
      "File \u001b[1;32m~\\anaconda3\\envs\\WEB\\Lib\\site-packages\\sqlalchemy\\engine\\base.py:1965\u001b[0m, in \u001b[0;36mConnection._exec_single_context\u001b[1;34m(self, dialect, context, statement, parameters)\u001b[0m\n\u001b[0;32m   1964\u001b[0m     \u001b[38;5;28;01mif\u001b[39;00m \u001b[38;5;129;01mnot\u001b[39;00m evt_handled:\n\u001b[1;32m-> 1965\u001b[0m         \u001b[38;5;28;43mself\u001b[39;49m\u001b[38;5;241;43m.\u001b[39;49m\u001b[43mdialect\u001b[49m\u001b[38;5;241;43m.\u001b[39;49m\u001b[43mdo_execute\u001b[49m\u001b[43m(\u001b[49m\n\u001b[0;32m   1966\u001b[0m \u001b[43m            \u001b[49m\u001b[43mcursor\u001b[49m\u001b[43m,\u001b[49m\u001b[43m \u001b[49m\u001b[43mstr_statement\u001b[49m\u001b[43m,\u001b[49m\u001b[43m \u001b[49m\u001b[43meffective_parameters\u001b[49m\u001b[43m,\u001b[49m\u001b[43m \u001b[49m\u001b[43mcontext\u001b[49m\n\u001b[0;32m   1967\u001b[0m \u001b[43m        \u001b[49m\u001b[43m)\u001b[49m\n\u001b[0;32m   1969\u001b[0m \u001b[38;5;28;01mif\u001b[39;00m \u001b[38;5;28mself\u001b[39m\u001b[38;5;241m.\u001b[39m_has_events \u001b[38;5;129;01mor\u001b[39;00m \u001b[38;5;28mself\u001b[39m\u001b[38;5;241m.\u001b[39mengine\u001b[38;5;241m.\u001b[39m_has_events:\n",
      "File \u001b[1;32m~\\anaconda3\\envs\\WEB\\Lib\\site-packages\\sqlalchemy\\engine\\default.py:921\u001b[0m, in \u001b[0;36mDefaultDialect.do_execute\u001b[1;34m(self, cursor, statement, parameters, context)\u001b[0m\n\u001b[0;32m    920\u001b[0m \u001b[38;5;28;01mdef\u001b[39;00m \u001b[38;5;21mdo_execute\u001b[39m(\u001b[38;5;28mself\u001b[39m, cursor, statement, parameters, context\u001b[38;5;241m=\u001b[39m\u001b[38;5;28;01mNone\u001b[39;00m):\n\u001b[1;32m--> 921\u001b[0m     cursor\u001b[38;5;241m.\u001b[39mexecute(statement, parameters)\n",
      "\u001b[1;31mOperationalError\u001b[0m: no such table: test_empty2",
      "\nThe above exception was the direct cause of the following exception:\n",
      "\u001b[1;31mOperationalError\u001b[0m                          Traceback (most recent call last)",
      "Cell \u001b[1;32mIn[113], line 3\u001b[0m\n\u001b[0;32m      1\u001b[0m \u001b[38;5;28;01mwith\u001b[39;00m engine\u001b[38;5;241m.\u001b[39mbegin() \u001b[38;5;28;01mas\u001b[39;00m c:\n\u001b[0;32m      2\u001b[0m     \u001b[38;5;28mprint\u001b[39m(\u001b[38;5;124m\"\u001b[39m\u001b[38;5;124m1\u001b[39m\u001b[38;5;124m\"\u001b[39m)\n\u001b[1;32m----> 3\u001b[0m     r \u001b[38;5;241m=\u001b[39m \u001b[43mc\u001b[49m\u001b[38;5;241;43m.\u001b[39;49m\u001b[43mexecute\u001b[49m\u001b[43m(\u001b[49m\u001b[43mtext\u001b[49m\u001b[43m(\u001b[49m\u001b[38;5;124;43m\"\u001b[39;49m\u001b[38;5;124;43mSELECT x, y FROM test_empty2 WHERE x = :x\u001b[39;49m\u001b[38;5;124;43m\"\u001b[39;49m\u001b[43m)\u001b[49m\u001b[43m,\u001b[49m\u001b[43m{\u001b[49m\u001b[38;5;124;43m\"\u001b[39;49m\u001b[38;5;124;43mx\u001b[39;49m\u001b[38;5;124;43m\"\u001b[39;49m\u001b[43m:\u001b[49m\u001b[38;5;241;43m1\u001b[39;49m\u001b[43m}\u001b[49m\u001b[43m)\u001b[49m\n\u001b[0;32m      4\u001b[0m     \u001b[38;5;28mprint\u001b[39m(\u001b[38;5;124m\"\u001b[39m\u001b[38;5;124m2\u001b[39m\u001b[38;5;124m\"\u001b[39m)\n\u001b[0;32m      5\u001b[0m     \u001b[38;5;28mprint\u001b[39m(r)\n",
      "File \u001b[1;32m~\\anaconda3\\envs\\WEB\\Lib\\site-packages\\sqlalchemy\\engine\\base.py:1412\u001b[0m, in \u001b[0;36mConnection.execute\u001b[1;34m(self, statement, parameters, execution_options)\u001b[0m\n\u001b[0;32m   1410\u001b[0m     \u001b[38;5;28;01mraise\u001b[39;00m exc\u001b[38;5;241m.\u001b[39mObjectNotExecutableError(statement) \u001b[38;5;28;01mfrom\u001b[39;00m \u001b[38;5;21;01merr\u001b[39;00m\n\u001b[0;32m   1411\u001b[0m \u001b[38;5;28;01melse\u001b[39;00m:\n\u001b[1;32m-> 1412\u001b[0m     \u001b[38;5;28;01mreturn\u001b[39;00m \u001b[43mmeth\u001b[49m\u001b[43m(\u001b[49m\n\u001b[0;32m   1413\u001b[0m \u001b[43m        \u001b[49m\u001b[38;5;28;43mself\u001b[39;49m\u001b[43m,\u001b[49m\n\u001b[0;32m   1414\u001b[0m \u001b[43m        \u001b[49m\u001b[43mdistilled_parameters\u001b[49m\u001b[43m,\u001b[49m\n\u001b[0;32m   1415\u001b[0m \u001b[43m        \u001b[49m\u001b[43mexecution_options\u001b[49m\u001b[43m \u001b[49m\u001b[38;5;129;43;01mor\u001b[39;49;00m\u001b[43m \u001b[49m\u001b[43mNO_OPTIONS\u001b[49m\u001b[43m,\u001b[49m\n\u001b[0;32m   1416\u001b[0m \u001b[43m    \u001b[49m\u001b[43m)\u001b[49m\n",
      "File \u001b[1;32m~\\anaconda3\\envs\\WEB\\Lib\\site-packages\\sqlalchemy\\sql\\elements.py:516\u001b[0m, in \u001b[0;36mClauseElement._execute_on_connection\u001b[1;34m(self, connection, distilled_params, execution_options)\u001b[0m\n\u001b[0;32m    514\u001b[0m     \u001b[38;5;28;01mif\u001b[39;00m TYPE_CHECKING:\n\u001b[0;32m    515\u001b[0m         \u001b[38;5;28;01massert\u001b[39;00m \u001b[38;5;28misinstance\u001b[39m(\u001b[38;5;28mself\u001b[39m, Executable)\n\u001b[1;32m--> 516\u001b[0m     \u001b[38;5;28;01mreturn\u001b[39;00m \u001b[43mconnection\u001b[49m\u001b[38;5;241;43m.\u001b[39;49m\u001b[43m_execute_clauseelement\u001b[49m\u001b[43m(\u001b[49m\n\u001b[0;32m    517\u001b[0m \u001b[43m        \u001b[49m\u001b[38;5;28;43mself\u001b[39;49m\u001b[43m,\u001b[49m\u001b[43m \u001b[49m\u001b[43mdistilled_params\u001b[49m\u001b[43m,\u001b[49m\u001b[43m \u001b[49m\u001b[43mexecution_options\u001b[49m\n\u001b[0;32m    518\u001b[0m \u001b[43m    \u001b[49m\u001b[43m)\u001b[49m\n\u001b[0;32m    519\u001b[0m \u001b[38;5;28;01melse\u001b[39;00m:\n\u001b[0;32m    520\u001b[0m     \u001b[38;5;28;01mraise\u001b[39;00m exc\u001b[38;5;241m.\u001b[39mObjectNotExecutableError(\u001b[38;5;28mself\u001b[39m)\n",
      "File \u001b[1;32m~\\anaconda3\\envs\\WEB\\Lib\\site-packages\\sqlalchemy\\engine\\base.py:1635\u001b[0m, in \u001b[0;36mConnection._execute_clauseelement\u001b[1;34m(self, elem, distilled_parameters, execution_options)\u001b[0m\n\u001b[0;32m   1623\u001b[0m compiled_cache: Optional[CompiledCacheType] \u001b[38;5;241m=\u001b[39m execution_options\u001b[38;5;241m.\u001b[39mget(\n\u001b[0;32m   1624\u001b[0m     \u001b[38;5;124m\"\u001b[39m\u001b[38;5;124mcompiled_cache\u001b[39m\u001b[38;5;124m\"\u001b[39m, \u001b[38;5;28mself\u001b[39m\u001b[38;5;241m.\u001b[39mengine\u001b[38;5;241m.\u001b[39m_compiled_cache\n\u001b[0;32m   1625\u001b[0m )\n\u001b[0;32m   1627\u001b[0m compiled_sql, extracted_params, cache_hit \u001b[38;5;241m=\u001b[39m elem\u001b[38;5;241m.\u001b[39m_compile_w_cache(\n\u001b[0;32m   1628\u001b[0m     dialect\u001b[38;5;241m=\u001b[39mdialect,\n\u001b[0;32m   1629\u001b[0m     compiled_cache\u001b[38;5;241m=\u001b[39mcompiled_cache,\n\u001b[1;32m   (...)\u001b[0m\n\u001b[0;32m   1633\u001b[0m     linting\u001b[38;5;241m=\u001b[39m\u001b[38;5;28mself\u001b[39m\u001b[38;5;241m.\u001b[39mdialect\u001b[38;5;241m.\u001b[39mcompiler_linting \u001b[38;5;241m|\u001b[39m compiler\u001b[38;5;241m.\u001b[39mWARN_LINTING,\n\u001b[0;32m   1634\u001b[0m )\n\u001b[1;32m-> 1635\u001b[0m ret \u001b[38;5;241m=\u001b[39m \u001b[38;5;28;43mself\u001b[39;49m\u001b[38;5;241;43m.\u001b[39;49m\u001b[43m_execute_context\u001b[49m\u001b[43m(\u001b[49m\n\u001b[0;32m   1636\u001b[0m \u001b[43m    \u001b[49m\u001b[43mdialect\u001b[49m\u001b[43m,\u001b[49m\n\u001b[0;32m   1637\u001b[0m \u001b[43m    \u001b[49m\u001b[43mdialect\u001b[49m\u001b[38;5;241;43m.\u001b[39;49m\u001b[43mexecution_ctx_cls\u001b[49m\u001b[38;5;241;43m.\u001b[39;49m\u001b[43m_init_compiled\u001b[49m\u001b[43m,\u001b[49m\n\u001b[0;32m   1638\u001b[0m \u001b[43m    \u001b[49m\u001b[43mcompiled_sql\u001b[49m\u001b[43m,\u001b[49m\n\u001b[0;32m   1639\u001b[0m \u001b[43m    \u001b[49m\u001b[43mdistilled_parameters\u001b[49m\u001b[43m,\u001b[49m\n\u001b[0;32m   1640\u001b[0m \u001b[43m    \u001b[49m\u001b[43mexecution_options\u001b[49m\u001b[43m,\u001b[49m\n\u001b[0;32m   1641\u001b[0m \u001b[43m    \u001b[49m\u001b[43mcompiled_sql\u001b[49m\u001b[43m,\u001b[49m\n\u001b[0;32m   1642\u001b[0m \u001b[43m    \u001b[49m\u001b[43mdistilled_parameters\u001b[49m\u001b[43m,\u001b[49m\n\u001b[0;32m   1643\u001b[0m \u001b[43m    \u001b[49m\u001b[43melem\u001b[49m\u001b[43m,\u001b[49m\n\u001b[0;32m   1644\u001b[0m \u001b[43m    \u001b[49m\u001b[43mextracted_params\u001b[49m\u001b[43m,\u001b[49m\n\u001b[0;32m   1645\u001b[0m \u001b[43m    \u001b[49m\u001b[43mcache_hit\u001b[49m\u001b[38;5;241;43m=\u001b[39;49m\u001b[43mcache_hit\u001b[49m\u001b[43m,\u001b[49m\n\u001b[0;32m   1646\u001b[0m \u001b[43m\u001b[49m\u001b[43m)\u001b[49m\n\u001b[0;32m   1647\u001b[0m \u001b[38;5;28;01mif\u001b[39;00m has_events:\n\u001b[0;32m   1648\u001b[0m     \u001b[38;5;28mself\u001b[39m\u001b[38;5;241m.\u001b[39mdispatch\u001b[38;5;241m.\u001b[39mafter_execute(\n\u001b[0;32m   1649\u001b[0m         \u001b[38;5;28mself\u001b[39m,\n\u001b[0;32m   1650\u001b[0m         elem,\n\u001b[1;32m   (...)\u001b[0m\n\u001b[0;32m   1654\u001b[0m         ret,\n\u001b[0;32m   1655\u001b[0m     )\n",
      "File \u001b[1;32m~\\anaconda3\\envs\\WEB\\Lib\\site-packages\\sqlalchemy\\engine\\base.py:1844\u001b[0m, in \u001b[0;36mConnection._execute_context\u001b[1;34m(self, dialect, constructor, statement, parameters, execution_options, *args, **kw)\u001b[0m\n\u001b[0;32m   1839\u001b[0m     \u001b[38;5;28;01mreturn\u001b[39;00m \u001b[38;5;28mself\u001b[39m\u001b[38;5;241m.\u001b[39m_exec_insertmany_context(\n\u001b[0;32m   1840\u001b[0m         dialect,\n\u001b[0;32m   1841\u001b[0m         context,\n\u001b[0;32m   1842\u001b[0m     )\n\u001b[0;32m   1843\u001b[0m \u001b[38;5;28;01melse\u001b[39;00m:\n\u001b[1;32m-> 1844\u001b[0m     \u001b[38;5;28;01mreturn\u001b[39;00m \u001b[38;5;28;43mself\u001b[39;49m\u001b[38;5;241;43m.\u001b[39;49m\u001b[43m_exec_single_context\u001b[49m\u001b[43m(\u001b[49m\n\u001b[0;32m   1845\u001b[0m \u001b[43m        \u001b[49m\u001b[43mdialect\u001b[49m\u001b[43m,\u001b[49m\u001b[43m \u001b[49m\u001b[43mcontext\u001b[49m\u001b[43m,\u001b[49m\u001b[43m \u001b[49m\u001b[43mstatement\u001b[49m\u001b[43m,\u001b[49m\u001b[43m \u001b[49m\u001b[43mparameters\u001b[49m\n\u001b[0;32m   1846\u001b[0m \u001b[43m    \u001b[49m\u001b[43m)\u001b[49m\n",
      "File \u001b[1;32m~\\anaconda3\\envs\\WEB\\Lib\\site-packages\\sqlalchemy\\engine\\base.py:1984\u001b[0m, in \u001b[0;36mConnection._exec_single_context\u001b[1;34m(self, dialect, context, statement, parameters)\u001b[0m\n\u001b[0;32m   1981\u001b[0m     result \u001b[38;5;241m=\u001b[39m context\u001b[38;5;241m.\u001b[39m_setup_result_proxy()\n\u001b[0;32m   1983\u001b[0m \u001b[38;5;28;01mexcept\u001b[39;00m \u001b[38;5;167;01mBaseException\u001b[39;00m \u001b[38;5;28;01mas\u001b[39;00m e:\n\u001b[1;32m-> 1984\u001b[0m     \u001b[38;5;28;43mself\u001b[39;49m\u001b[38;5;241;43m.\u001b[39;49m\u001b[43m_handle_dbapi_exception\u001b[49m\u001b[43m(\u001b[49m\n\u001b[0;32m   1985\u001b[0m \u001b[43m        \u001b[49m\u001b[43me\u001b[49m\u001b[43m,\u001b[49m\u001b[43m \u001b[49m\u001b[43mstr_statement\u001b[49m\u001b[43m,\u001b[49m\u001b[43m \u001b[49m\u001b[43meffective_parameters\u001b[49m\u001b[43m,\u001b[49m\u001b[43m \u001b[49m\u001b[43mcursor\u001b[49m\u001b[43m,\u001b[49m\u001b[43m \u001b[49m\u001b[43mcontext\u001b[49m\n\u001b[0;32m   1986\u001b[0m \u001b[43m    \u001b[49m\u001b[43m)\u001b[49m\n\u001b[0;32m   1988\u001b[0m \u001b[38;5;28;01mreturn\u001b[39;00m result\n",
      "File \u001b[1;32m~\\anaconda3\\envs\\WEB\\Lib\\site-packages\\sqlalchemy\\engine\\base.py:2339\u001b[0m, in \u001b[0;36mConnection._handle_dbapi_exception\u001b[1;34m(self, e, statement, parameters, cursor, context, is_sub_exec)\u001b[0m\n\u001b[0;32m   2337\u001b[0m \u001b[38;5;28;01melif\u001b[39;00m should_wrap:\n\u001b[0;32m   2338\u001b[0m     \u001b[38;5;28;01massert\u001b[39;00m sqlalchemy_exception \u001b[38;5;129;01mis\u001b[39;00m \u001b[38;5;129;01mnot\u001b[39;00m \u001b[38;5;28;01mNone\u001b[39;00m\n\u001b[1;32m-> 2339\u001b[0m     \u001b[38;5;28;01mraise\u001b[39;00m sqlalchemy_exception\u001b[38;5;241m.\u001b[39mwith_traceback(exc_info[\u001b[38;5;241m2\u001b[39m]) \u001b[38;5;28;01mfrom\u001b[39;00m \u001b[38;5;21;01me\u001b[39;00m\n\u001b[0;32m   2340\u001b[0m \u001b[38;5;28;01melse\u001b[39;00m:\n\u001b[0;32m   2341\u001b[0m     \u001b[38;5;28;01massert\u001b[39;00m exc_info[\u001b[38;5;241m1\u001b[39m] \u001b[38;5;129;01mis\u001b[39;00m \u001b[38;5;129;01mnot\u001b[39;00m \u001b[38;5;28;01mNone\u001b[39;00m\n",
      "File \u001b[1;32m~\\anaconda3\\envs\\WEB\\Lib\\site-packages\\sqlalchemy\\engine\\base.py:1965\u001b[0m, in \u001b[0;36mConnection._exec_single_context\u001b[1;34m(self, dialect, context, statement, parameters)\u001b[0m\n\u001b[0;32m   1963\u001b[0m                 \u001b[38;5;28;01mbreak\u001b[39;00m\n\u001b[0;32m   1964\u001b[0m     \u001b[38;5;28;01mif\u001b[39;00m \u001b[38;5;129;01mnot\u001b[39;00m evt_handled:\n\u001b[1;32m-> 1965\u001b[0m         \u001b[38;5;28;43mself\u001b[39;49m\u001b[38;5;241;43m.\u001b[39;49m\u001b[43mdialect\u001b[49m\u001b[38;5;241;43m.\u001b[39;49m\u001b[43mdo_execute\u001b[49m\u001b[43m(\u001b[49m\n\u001b[0;32m   1966\u001b[0m \u001b[43m            \u001b[49m\u001b[43mcursor\u001b[49m\u001b[43m,\u001b[49m\u001b[43m \u001b[49m\u001b[43mstr_statement\u001b[49m\u001b[43m,\u001b[49m\u001b[43m \u001b[49m\u001b[43meffective_parameters\u001b[49m\u001b[43m,\u001b[49m\u001b[43m \u001b[49m\u001b[43mcontext\u001b[49m\n\u001b[0;32m   1967\u001b[0m \u001b[43m        \u001b[49m\u001b[43m)\u001b[49m\n\u001b[0;32m   1969\u001b[0m \u001b[38;5;28;01mif\u001b[39;00m \u001b[38;5;28mself\u001b[39m\u001b[38;5;241m.\u001b[39m_has_events \u001b[38;5;129;01mor\u001b[39;00m \u001b[38;5;28mself\u001b[39m\u001b[38;5;241m.\u001b[39mengine\u001b[38;5;241m.\u001b[39m_has_events:\n\u001b[0;32m   1970\u001b[0m     \u001b[38;5;28mself\u001b[39m\u001b[38;5;241m.\u001b[39mdispatch\u001b[38;5;241m.\u001b[39mafter_cursor_execute(\n\u001b[0;32m   1971\u001b[0m         \u001b[38;5;28mself\u001b[39m,\n\u001b[0;32m   1972\u001b[0m         cursor,\n\u001b[1;32m   (...)\u001b[0m\n\u001b[0;32m   1976\u001b[0m         context\u001b[38;5;241m.\u001b[39mexecutemany,\n\u001b[0;32m   1977\u001b[0m     )\n",
      "File \u001b[1;32m~\\anaconda3\\envs\\WEB\\Lib\\site-packages\\sqlalchemy\\engine\\default.py:921\u001b[0m, in \u001b[0;36mDefaultDialect.do_execute\u001b[1;34m(self, cursor, statement, parameters, context)\u001b[0m\n\u001b[0;32m    920\u001b[0m \u001b[38;5;28;01mdef\u001b[39;00m \u001b[38;5;21mdo_execute\u001b[39m(\u001b[38;5;28mself\u001b[39m, cursor, statement, parameters, context\u001b[38;5;241m=\u001b[39m\u001b[38;5;28;01mNone\u001b[39;00m):\n\u001b[1;32m--> 921\u001b[0m     cursor\u001b[38;5;241m.\u001b[39mexecute(statement, parameters)\n",
      "\u001b[1;31mOperationalError\u001b[0m: (sqlite3.OperationalError) no such table: test_empty2\n[SQL: SELECT x, y FROM test_empty2 WHERE x = ?]\n[parameters: (1,)]\n(Background on this error at: https://sqlalche.me/e/20/e3q8)"
     ]
    }
   ],
   "source": [
    "with engine.begin() as c:\n",
    "    print(\"1\")\n",
    "    r = c.execute(text(\"SELECT x, y FROM test_empty2 WHERE x = :x\"),{\"x\":1})\n",
    "    print(\"2\")\n",
    "    print(r)\n",
    "    print(r.first() is None)"
   ]
  },
  {
   "cell_type": "code",
   "execution_count": 108,
   "id": "47463d68",
   "metadata": {},
   "outputs": [
    {
     "data": {
      "text/plain": [
       "<sqlalchemy.engine.cursor.CursorResult at 0x28b9bec1780>"
      ]
     },
     "execution_count": 108,
     "metadata": {},
     "output_type": "execute_result"
    }
   ],
   "source": [
    "r"
   ]
  },
  {
   "cell_type": "markdown",
   "id": "ba630511",
   "metadata": {},
   "source": [
    "### commit as you go.\n",
    "\n",
    "Use `engine.connect()` and then call `con.commit()` every time you commit a transaction.\n",
    "\n",
    "You can define many transactions before commiting or commit after each and everyone"
   ]
  },
  {
   "cell_type": "code",
   "execution_count": 26,
   "id": "7c5b0139",
   "metadata": {},
   "outputs": [
    {
     "name": "stdout",
     "output_type": "stream",
     "text": [
      "2023-10-31 12:46:46,733 INFO sqlalchemy.engine.Engine BEGIN (implicit)\n",
      "2023-10-31 12:46:46,734 INFO sqlalchemy.engine.Engine CREATE TABLE some_table (x int, y int)\n",
      "2023-10-31 12:46:46,734 INFO sqlalchemy.engine.Engine [generated in 0.00174s] ()\n",
      "2023-10-31 12:46:46,736 INFO sqlalchemy.engine.Engine INSERT INTO some_table (x, y) VALUES (?, ?)\n",
      "2023-10-31 12:46:46,737 INFO sqlalchemy.engine.Engine [generated in 0.00112s] [(1, 1), (2, 4)]\n",
      "2023-10-31 12:46:46,740 INFO sqlalchemy.engine.Engine COMMIT\n"
     ]
    }
   ],
   "source": [
    "with engine.connect() as conn:\n",
    "    conn.execute(text(\"CREATE TABLE some_table (x int, y int)\"))\n",
    "    conn.execute(\n",
    "        text(\"INSERT INTO some_table (x, y) VALUES (:x, :y)\"),\n",
    "        [{\"x\": 1, \"y\": 1}, {\"x\": 2, \"y\": 4}],\n",
    "    )\n",
    "    conn.commit()\n",
    "    #  here we commit the changes(see below)"
   ]
  },
  {
   "cell_type": "code",
   "execution_count": 27,
   "id": "3487f23d",
   "metadata": {},
   "outputs": [
    {
     "name": "stdout",
     "output_type": "stream",
     "text": [
      "2023-10-31 12:46:46,948 INFO sqlalchemy.engine.Engine BEGIN (implicit)\n",
      "2023-10-31 12:46:46,949 INFO sqlalchemy.engine.Engine SELECT * FROM some_table\n",
      "2023-10-31 12:46:46,951 INFO sqlalchemy.engine.Engine [generated in 0.00276s] ()\n",
      "[(1, 1), (2, 4)]\n",
      "2023-10-31 12:46:46,953 INFO sqlalchemy.engine.Engine ROLLBACK\n"
     ]
    }
   ],
   "source": [
    "with engine.connect() as conn:\n",
    "    result = conn.execute(text(\"SELECT * FROM some_table\"))\n",
    "    print(result.all())\n",
    "# will show [(1, 1), (2, 4)]"
   ]
  },
  {
   "cell_type": "code",
   "execution_count": 28,
   "id": "ab007b9d",
   "metadata": {},
   "outputs": [
    {
     "name": "stdout",
     "output_type": "stream",
     "text": [
      "2023-10-31 12:46:47,107 INFO sqlalchemy.engine.Engine BEGIN (implicit)\n",
      "2023-10-31 12:46:47,109 INFO sqlalchemy.engine.Engine INSERT INTO some_table (x, y) VALUES (?, ?)\n",
      "2023-10-31 12:46:47,110 INFO sqlalchemy.engine.Engine [cached since 0.3749s ago] [(2, 2), (3, 3)]\n",
      "2023-10-31 12:46:47,111 INFO sqlalchemy.engine.Engine ROLLBACK\n"
     ]
    }
   ],
   "source": [
    "with engine.connect() as conn:\n",
    "    conn.execute(\n",
    "        text(\"INSERT INTO some_table (x, y) VALUES (:x, :y)\"),\n",
    "        [{\"x\": 2, \"y\": 2}, {\"x\": 3, \"y\": 3}],\n",
    "    )\n",
    "    #  here we DON'T commit the changes (see below)"
   ]
  },
  {
   "cell_type": "code",
   "execution_count": 29,
   "id": "cd7e4e86",
   "metadata": {},
   "outputs": [
    {
     "name": "stdout",
     "output_type": "stream",
     "text": [
      "2023-10-31 12:46:47,332 INFO sqlalchemy.engine.Engine BEGIN (implicit)\n",
      "2023-10-31 12:46:47,333 INFO sqlalchemy.engine.Engine SELECT * FROM some_table\n",
      "2023-10-31 12:46:47,334 INFO sqlalchemy.engine.Engine [cached since 0.3871s ago] ()\n",
      "[(1, 1), (2, 4)]\n",
      "2023-10-31 12:46:47,336 INFO sqlalchemy.engine.Engine ROLLBACK\n"
     ]
    }
   ],
   "source": [
    "with engine.connect() as conn:\n",
    "    result = conn.execute(text(\"SELECT * FROM some_table\"))\n",
    "    print(result.all())\n",
    "# will show only [(1, 1), (2, 4)]"
   ]
  },
  {
   "cell_type": "code",
   "execution_count": null,
   "id": "f1b60804",
   "metadata": {},
   "outputs": [],
   "source": []
  },
  {
   "cell_type": "markdown",
   "id": "6b280f85",
   "metadata": {},
   "source": [
    "###  begin once\n",
    "\n",
    "Use `engine.begin()` only once.\n",
    "* It will `COMMIT` at the end if the block is successful\n",
    "* `ROLLBACK` if there is an error within the block\n",
    "\n",
    "It is often preferred as it is more succinct and indicates the intention of the entire block up front."
   ]
  },
  {
   "cell_type": "code",
   "execution_count": 30,
   "id": "b1b72f96",
   "metadata": {},
   "outputs": [
    {
     "name": "stdout",
     "output_type": "stream",
     "text": [
      "2023-10-31 12:46:48,040 INFO sqlalchemy.engine.Engine BEGIN (implicit)\n",
      "2023-10-31 12:46:48,041 INFO sqlalchemy.engine.Engine INSERT INTO some_table (x, y) VALUES (?, ?)\n",
      "2023-10-31 12:46:48,043 INFO sqlalchemy.engine.Engine [cached since 1.307s ago] [(6, 8), (9, 10)]\n",
      "2023-10-31 12:46:48,044 INFO sqlalchemy.engine.Engine COMMIT\n"
     ]
    }
   ],
   "source": [
    "with engine.begin() as conn:\n",
    "    conn.execute(\n",
    "        text(\"INSERT INTO some_table (x, y) VALUES (:x, :y)\"),\n",
    "        [{\"x\": 6, \"y\": 8}, {\"x\": 9, \"y\": 10}],\n",
    "    )"
   ]
  },
  {
   "cell_type": "code",
   "execution_count": 31,
   "id": "0ca43124",
   "metadata": {},
   "outputs": [
    {
     "name": "stdout",
     "output_type": "stream",
     "text": [
      "2023-10-31 12:46:48,260 INFO sqlalchemy.engine.Engine BEGIN (implicit)\n",
      "2023-10-31 12:46:48,261 INFO sqlalchemy.engine.Engine SELECT * FROM some_table\n",
      "2023-10-31 12:46:48,262 INFO sqlalchemy.engine.Engine [cached since 1.314s ago] ()\n",
      "[(1, 1), (2, 4), (6, 8), (9, 10)]\n",
      "2023-10-31 12:46:48,263 INFO sqlalchemy.engine.Engine ROLLBACK\n"
     ]
    }
   ],
   "source": [
    "with engine.connect() as conn:\n",
    "    result = conn.execute(text(\"SELECT * FROM some_table\"))\n",
    "    print(result.all())\n",
    "# will show [(1, 1), (2, 4), (6, 8), (9, 10)]"
   ]
  },
  {
   "cell_type": "code",
   "execution_count": 32,
   "id": "70f8e73d",
   "metadata": {},
   "outputs": [
    {
     "name": "stdout",
     "output_type": "stream",
     "text": [
      "2023-10-31 12:46:48,483 INFO sqlalchemy.engine.Engine BEGIN (implicit)\n",
      "2023-10-31 12:46:48,485 INFO sqlalchemy.engine.Engine INSERT INTO some_table (x, y) VALUES (?, ?)\n",
      "2023-10-31 12:46:48,487 INFO sqlalchemy.engine.Engine [cached since 1.752s ago] [(10, 18), (19, 100)]\n",
      "2023-10-31 12:46:48,489 INFO sqlalchemy.engine.Engine ROLLBACK\n"
     ]
    },
    {
     "ename": "BaseException",
     "evalue": "oups",
     "output_type": "error",
     "traceback": [
      "\u001b[1;31m---------------------------------------------------------------------------\u001b[0m",
      "\u001b[1;31mBaseException\u001b[0m                             Traceback (most recent call last)",
      "Cell \u001b[1;32mIn[32], line 6\u001b[0m\n\u001b[0;32m      1\u001b[0m \u001b[38;5;28;01mwith\u001b[39;00m engine\u001b[38;5;241m.\u001b[39mbegin() \u001b[38;5;28;01mas\u001b[39;00m conn:\n\u001b[0;32m      2\u001b[0m     conn\u001b[38;5;241m.\u001b[39mexecute(\n\u001b[0;32m      3\u001b[0m         text(\u001b[38;5;124m\"\u001b[39m\u001b[38;5;124mINSERT INTO some_table (x, y) VALUES (:x, :y)\u001b[39m\u001b[38;5;124m\"\u001b[39m),\n\u001b[0;32m      4\u001b[0m         [{\u001b[38;5;124m\"\u001b[39m\u001b[38;5;124mx\u001b[39m\u001b[38;5;124m\"\u001b[39m: \u001b[38;5;241m10\u001b[39m, \u001b[38;5;124m\"\u001b[39m\u001b[38;5;124my\u001b[39m\u001b[38;5;124m\"\u001b[39m: \u001b[38;5;241m18\u001b[39m}, {\u001b[38;5;124m\"\u001b[39m\u001b[38;5;124mx\u001b[39m\u001b[38;5;124m\"\u001b[39m: \u001b[38;5;241m19\u001b[39m, \u001b[38;5;124m\"\u001b[39m\u001b[38;5;124my\u001b[39m\u001b[38;5;124m\"\u001b[39m: \u001b[38;5;241m100\u001b[39m}],\n\u001b[0;32m      5\u001b[0m     )\n\u001b[1;32m----> 6\u001b[0m     \u001b[38;5;28;01mraise\u001b[39;00m \u001b[38;5;167;01mBaseException\u001b[39;00m(\u001b[38;5;124m\"\u001b[39m\u001b[38;5;124moups\u001b[39m\u001b[38;5;124m\"\u001b[39m)\n",
      "\u001b[1;31mBaseException\u001b[0m: oups"
     ]
    }
   ],
   "source": [
    "with engine.begin() as conn:\n",
    "    conn.execute(\n",
    "        text(\"INSERT INTO some_table (x, y) VALUES (:x, :y)\"),\n",
    "        [{\"x\": 10, \"y\": 18}, {\"x\": 19, \"y\": 100}],\n",
    "    )\n",
    "    raise BaseException(\"oups\")"
   ]
  },
  {
   "cell_type": "code",
   "execution_count": 33,
   "id": "f5da118b",
   "metadata": {},
   "outputs": [
    {
     "name": "stdout",
     "output_type": "stream",
     "text": [
      "2023-10-31 12:46:48,673 INFO sqlalchemy.engine.Engine BEGIN (implicit)\n",
      "2023-10-31 12:46:48,674 INFO sqlalchemy.engine.Engine SELECT * FROM some_table\n",
      "2023-10-31 12:46:48,675 INFO sqlalchemy.engine.Engine [cached since 1.728s ago] ()\n",
      "[(1, 1), (2, 4), (6, 8), (9, 10)]\n",
      "2023-10-31 12:46:48,678 INFO sqlalchemy.engine.Engine ROLLBACK\n"
     ]
    }
   ],
   "source": [
    "with engine.connect() as conn:\n",
    "    result = conn.execute(text(\"SELECT * FROM some_table\"))\n",
    "    print(result.all())\n",
    "# will show only [(1, 1), (2, 4), (6, 8), (9, 10)]"
   ]
  },
  {
   "cell_type": "code",
   "execution_count": null,
   "id": "c784ac33",
   "metadata": {},
   "outputs": [],
   "source": []
  },
  {
   "cell_type": "code",
   "execution_count": null,
   "id": "ef1daa1e",
   "metadata": {},
   "outputs": [],
   "source": []
  },
  {
   "cell_type": "markdown",
   "id": "38641139",
   "metadata": {},
   "source": [
    "### result object"
   ]
  },
  {
   "cell_type": "code",
   "execution_count": 34,
   "id": "e433f772",
   "metadata": {},
   "outputs": [
    {
     "name": "stdout",
     "output_type": "stream",
     "text": [
      "2023-10-31 12:46:50,624 INFO sqlalchemy.engine.Engine BEGIN (implicit)\n",
      "2023-10-31 12:46:50,626 INFO sqlalchemy.engine.Engine SELECT x,y FROM some_table\n",
      "2023-10-31 12:46:50,627 INFO sqlalchemy.engine.Engine [generated in 0.00225s] ()\n",
      "\tx: 1 \t y: 1\n",
      "\tx: 2 \t y: 4\n",
      "\tx: 6 \t y: 8\n",
      "\tx: 9 \t y: 10\n",
      "2023-10-31 12:46:50,629 INFO sqlalchemy.engine.Engine ROLLBACK\n"
     ]
    }
   ],
   "source": [
    "with engine.connect() as conn:\n",
    "    result = conn.execute(text(\"SELECT x,y FROM some_table\"))\n",
    "    for row in result:\n",
    "        print(f\"\\tx: {row.x} \\t y: {row.y}\")"
   ]
  },
  {
   "cell_type": "code",
   "execution_count": 35,
   "id": "1c178122",
   "metadata": {},
   "outputs": [
    {
     "name": "stdout",
     "output_type": "stream",
     "text": [
      "2023-10-31 12:46:50,828 INFO sqlalchemy.engine.Engine BEGIN (implicit)\n",
      "2023-10-31 12:46:50,830 INFO sqlalchemy.engine.Engine SELECT x,y FROM some_table\n",
      "2023-10-31 12:46:50,830 INFO sqlalchemy.engine.Engine [cached since 0.2063s ago] ()\n",
      "\tx: 1 \t y: 1\n",
      "\tx: 2 \t y: 4\n",
      "\tx: 6 \t y: 8\n",
      "\tx: 9 \t y: 10\n",
      "2023-10-31 12:46:50,832 INFO sqlalchemy.engine.Engine ROLLBACK\n"
     ]
    }
   ],
   "source": [
    "with engine.connect() as conn:\n",
    "    result = conn.execute(text(\"SELECT x,y FROM some_table\"))\n",
    "    for x,y in result:\n",
    "        print(f\"\\tx: {x} \\t y: {y}\")"
   ]
  },
  {
   "cell_type": "code",
   "execution_count": 36,
   "id": "d87dbbb9",
   "metadata": {},
   "outputs": [
    {
     "name": "stdout",
     "output_type": "stream",
     "text": [
      "2023-10-31 12:46:51,033 INFO sqlalchemy.engine.Engine BEGIN (implicit)\n",
      "2023-10-31 12:46:51,035 INFO sqlalchemy.engine.Engine SELECT y,x FROM some_table\n",
      "2023-10-31 12:46:51,035 INFO sqlalchemy.engine.Engine [generated in 0.00192s] ()\n",
      "\tx?: 1 \t y?: 1\n",
      "\tx?: 2 \t y?: 4\n",
      "\tx?: 6 \t y?: 8\n",
      "\tx?: 9 \t y?: 10\n",
      "2023-10-31 12:46:51,037 INFO sqlalchemy.engine.Engine ROLLBACK\n"
     ]
    }
   ],
   "source": [
    "with engine.connect() as conn:\n",
    "    result = conn.execute(text(\"SELECT y,x FROM some_table\"))\n",
    "    for row in result:\n",
    "        print(f\"\\tx?: {row.x} \\t y?: {row.y}\")\n",
    "# here order does not matter but name does"
   ]
  },
  {
   "cell_type": "code",
   "execution_count": 37,
   "id": "5027e4b1",
   "metadata": {},
   "outputs": [
    {
     "name": "stdout",
     "output_type": "stream",
     "text": [
      "2023-10-31 12:46:51,299 INFO sqlalchemy.engine.Engine BEGIN (implicit)\n",
      "2023-10-31 12:46:51,301 INFO sqlalchemy.engine.Engine SELECT y, x FROM some_table\n",
      "2023-10-31 12:46:51,302 INFO sqlalchemy.engine.Engine [generated in 0.00261s] ()\n",
      "\tx?: 1 \t y?: 1\n",
      "\tx?: 4 \t y?: 2\n",
      "\tx?: 8 \t y?: 6\n",
      "\tx?: 10 \t y?: 9\n",
      "2023-10-31 12:46:51,303 INFO sqlalchemy.engine.Engine ROLLBACK\n"
     ]
    }
   ],
   "source": [
    "with engine.connect() as conn:\n",
    "    result = conn.execute(text(\"SELECT y, x FROM some_table\"))\n",
    "    for x,y in result:\n",
    "        print(f\"\\tx?: {x} \\t y?: {y}\")\n",
    "# in this way the order matters"
   ]
  },
  {
   "cell_type": "markdown",
   "id": "5b98b11e",
   "metadata": {},
   "source": [
    "### sending parameters"
   ]
  },
  {
   "cell_type": "code",
   "execution_count": 38,
   "id": "7a0e689c",
   "metadata": {},
   "outputs": [
    {
     "name": "stdout",
     "output_type": "stream",
     "text": [
      "2023-10-31 12:46:53,108 INFO sqlalchemy.engine.Engine BEGIN (implicit)\n",
      "2023-10-31 12:46:53,111 INFO sqlalchemy.engine.Engine SELECT x, y FROM some_table WHERE y > ?\n",
      "2023-10-31 12:46:53,111 INFO sqlalchemy.engine.Engine [generated in 0.00319s] (2,)\n",
      "\tx: 2  y: 4\n",
      "\tx: 6  y: 8\n",
      "\tx: 9  y: 10\n",
      "2023-10-31 12:46:53,113 INFO sqlalchemy.engine.Engine ROLLBACK\n"
     ]
    }
   ],
   "source": [
    "with engine.connect() as conn:\n",
    "    result = conn.execute(text(\"SELECT x, y FROM some_table WHERE y > :y\"), {\"y\": 2})\n",
    "    for row in result:\n",
    "        print(f\"\\tx: {row.x}  y: {row.y}\")"
   ]
  },
  {
   "cell_type": "code",
   "execution_count": null,
   "id": "b3be1bc6",
   "metadata": {},
   "outputs": [],
   "source": []
  },
  {
   "cell_type": "markdown",
   "id": "ce97c66c",
   "metadata": {},
   "source": [
    "## ORM session"
   ]
  },
  {
   "cell_type": "code",
   "execution_count": null,
   "id": "1da193f7",
   "metadata": {},
   "outputs": [],
   "source": [
    "from sqlalchemy.orm import Session\n",
    "\n",
    "stmt = text(\"SELECT x, y FROM some_table WHERE y > :y ORDER BY x, y\")\n",
    "with Session(engine) as session:\n",
    "    result = session.execute(stmt, {\"y\": 6})\n",
    "    for row in result:\n",
    "        print(f\"\\tx: {row.x}  y: {row.y}\")"
   ]
  },
  {
   "cell_type": "code",
   "execution_count": null,
   "id": "f1a67952",
   "metadata": {},
   "outputs": [],
   "source": [
    "# also need to commit with sessions\n",
    "with Session(engine) as session:\n",
    "    result = session.execute(\n",
    "        text(\"UPDATE some_table SET y=:y WHERE x=:x\"),\n",
    "        [{\"x\": 9, \"y\": 11}, {\"x\": 13, \"y\": 15}],\n",
    "    )\n",
    "    session.commit()"
   ]
  },
  {
   "cell_type": "code",
   "execution_count": null,
   "id": "b500e7e1",
   "metadata": {},
   "outputs": [],
   "source": []
  },
  {
   "cell_type": "code",
   "execution_count": null,
   "id": "622e4e6c",
   "metadata": {},
   "outputs": [],
   "source": []
  },
  {
   "cell_type": "markdown",
   "id": "a9d57c54",
   "metadata": {},
   "source": [
    "## Metadata\n",
    "\n",
    "The most common foundational objects for database metadata in SQLAlchemy are known as `MetaData`, `Table`, and `Column`. "
   ]
  },
  {
   "cell_type": "code",
   "execution_count": 45,
   "id": "14d46f2a",
   "metadata": {},
   "outputs": [],
   "source": [
    "# hand-create a metadata object\n",
    "\n",
    "from sqlalchemy import MetaData\n",
    "metadata_obj = MetaData()"
   ]
  },
  {
   "cell_type": "code",
   "execution_count": 46,
   "id": "0e9bc706",
   "metadata": {},
   "outputs": [],
   "source": [
    "from sqlalchemy import Table, Column, Integer, String\n",
    "user_table = Table(\n",
    "    \"user_account\",\n",
    "    metadata_obj,\n",
    "    Column(\"id\", Integer, primary_key=True),\n",
    "    Column(\"name\", String(30)),\n",
    "    Column(\"fullname\", String),\n",
    ")"
   ]
  },
  {
   "cell_type": "code",
   "execution_count": 47,
   "id": "89d74b88",
   "metadata": {},
   "outputs": [
    {
     "data": {
      "text/plain": [
       "['id', 'name', 'fullname']"
      ]
     },
     "execution_count": 47,
     "metadata": {},
     "output_type": "execute_result"
    }
   ],
   "source": [
    "# user_table.c : about Columns of the Table user_table\n",
    "user_table.c.keys()"
   ]
  },
  {
   "cell_type": "code",
   "execution_count": 48,
   "id": "a3991600",
   "metadata": {},
   "outputs": [
    {
     "data": {
      "text/plain": [
       "Column('name', String(length=30), table=<user_account>)"
      ]
     },
     "execution_count": 48,
     "metadata": {},
     "output_type": "execute_result"
    }
   ],
   "source": [
    "user_table.c.name"
   ]
  },
  {
   "cell_type": "code",
   "execution_count": 49,
   "id": "a37a6bb5",
   "metadata": {},
   "outputs": [
    {
     "data": {
      "text/plain": [
       "Column('fullname', String(), table=<user_account>)"
      ]
     },
     "execution_count": 49,
     "metadata": {},
     "output_type": "execute_result"
    }
   ],
   "source": [
    "user_table.c.fullname"
   ]
  },
  {
   "cell_type": "code",
   "execution_count": null,
   "id": "3176e4eb",
   "metadata": {},
   "outputs": [],
   "source": []
  },
  {
   "cell_type": "markdown",
   "id": "a533f6eb",
   "metadata": {},
   "source": [
    "**DDL**\\\n",
    "An acronym for Data Definition Language. DDL is the subset of SQL that relational databases use to configure tables, constraints, and other permanent objects within a database schema. SQLAlchemy provides a rich API for constructing and emitting DDL expressions."
   ]
  },
  {
   "cell_type": "code",
   "execution_count": null,
   "id": "61db90cf",
   "metadata": {},
   "outputs": [],
   "source": []
  },
  {
   "cell_type": "markdown",
   "id": "d9bb9f6f",
   "metadata": {},
   "source": [
    "### Constraints\n",
    "are listed after name and type\n",
    "1. primary key: `primary_key=True` \n",
    "2. foreign key: `ForeignKey(\"table.column)` can replace the type which is infered from the table.column\n",
    "3. not null: `nullable=False`"
   ]
  },
  {
   "cell_type": "code",
   "execution_count": 50,
   "id": "9f91ed27",
   "metadata": {},
   "outputs": [
    {
     "data": {
      "text/plain": [
       "PrimaryKeyConstraint(Column('id', Integer(), table=<user_account>, primary_key=True, nullable=False))"
      ]
     },
     "execution_count": 50,
     "metadata": {},
     "output_type": "execute_result"
    }
   ],
   "source": [
    "user_table.primary_key"
   ]
  },
  {
   "cell_type": "markdown",
   "id": "cc009716",
   "metadata": {},
   "source": [
    "#### Foreign key constraints"
   ]
  },
  {
   "cell_type": "code",
   "execution_count": 51,
   "id": "ebd20d9e",
   "metadata": {},
   "outputs": [],
   "source": [
    "from sqlalchemy import ForeignKey\n",
    "address_table = Table(\n",
    "    \"address\",\n",
    "    metadata_obj,\n",
    "    Column(\"id\", Integer, primary_key=True),\n",
    "    Column(\"user_id\", ForeignKey(\"user_account.id\"), nullable=False),\n",
    "    Column(\"email_address\", String, nullable=False),\n",
    ")"
   ]
  },
  {
   "cell_type": "code",
   "execution_count": null,
   "id": "18f649d4",
   "metadata": {},
   "outputs": [],
   "source": []
  },
  {
   "cell_type": "markdown",
   "id": "3a16817e",
   "metadata": {},
   "source": [
    "### Emitting DDl to database"
   ]
  },
  {
   "cell_type": "code",
   "execution_count": 52,
   "id": "1cad76c0",
   "metadata": {},
   "outputs": [],
   "source": [
    "# need an engine for it\n",
    "from sqlalchemy import create_engine\n",
    "engine = create_engine(\"sqlite+pysqlite:///:memory:\", echo=True)"
   ]
  },
  {
   "cell_type": "code",
   "execution_count": 98,
   "id": "cc4c15e1",
   "metadata": {},
   "outputs": [
    {
     "name": "stdout",
     "output_type": "stream",
     "text": [
      "2023-10-31 14:22:09,989 INFO sqlalchemy.engine.Engine BEGIN (implicit)\n",
      "2023-10-31 14:22:09,991 INFO sqlalchemy.engine.Engine PRAGMA main.table_info(\"user_account\")\n",
      "2023-10-31 14:22:09,991 INFO sqlalchemy.engine.Engine [raw sql] ()\n",
      "2023-10-31 14:22:09,993 INFO sqlalchemy.engine.Engine PRAGMA main.table_info(\"address\")\n",
      "2023-10-31 14:22:09,994 INFO sqlalchemy.engine.Engine [raw sql] ()\n",
      "2023-10-31 14:22:09,995 INFO sqlalchemy.engine.Engine COMMIT\n"
     ]
    }
   ],
   "source": [
    "metadata_obj.create_all(engine)"
   ]
  },
  {
   "cell_type": "code",
   "execution_count": 99,
   "id": "7eb464cf",
   "metadata": {},
   "outputs": [
    {
     "name": "stdout",
     "output_type": "stream",
     "text": [
      "2023-10-31 14:22:32,749 INFO sqlalchemy.engine.Engine BEGIN (implicit)\n",
      "2023-10-31 14:22:32,750 INFO sqlalchemy.engine.Engine PRAGMA main.table_info(\"user_account\")\n",
      "2023-10-31 14:22:32,751 INFO sqlalchemy.engine.Engine [raw sql] ()\n",
      "2023-10-31 14:22:32,753 INFO sqlalchemy.engine.Engine PRAGMA main.table_info(\"address\")\n",
      "2023-10-31 14:22:32,754 INFO sqlalchemy.engine.Engine [raw sql] ()\n",
      "2023-10-31 14:22:32,756 INFO sqlalchemy.engine.Engine \n",
      "DROP TABLE address\n",
      "2023-10-31 14:22:32,757 INFO sqlalchemy.engine.Engine [no key 0.00103s] ()\n",
      "2023-10-31 14:22:32,758 INFO sqlalchemy.engine.Engine \n",
      "DROP TABLE user_account\n",
      "2023-10-31 14:22:32,759 INFO sqlalchemy.engine.Engine [no key 0.00076s] ()\n",
      "2023-10-31 14:22:32,760 INFO sqlalchemy.engine.Engine COMMIT\n"
     ]
    }
   ],
   "source": [
    "metadata_obj.drop_all(engine)"
   ]
  },
  {
   "cell_type": "markdown",
   "id": "53761e42",
   "metadata": {},
   "source": [
    "Migration tools are usually appropriate\n",
    "\n",
    "Overall, the CREATE / DROP feature of MetaData is useful for test suites, small and/or new applications, and applications that use short-lived databases. For management of an application database schema over the long term however, a schema management tool such as Alembic, which builds upon SQLAlchemy, is likely a better choice, as it can manage and orchestrate the process of incrementally altering a fixed database schema over time as the design of the application changes.\n",
    "\n",
    "https://alembic.sqlalchemy.org/en/latest/"
   ]
  },
  {
   "cell_type": "code",
   "execution_count": null,
   "id": "b472c418",
   "metadata": {},
   "outputs": [],
   "source": []
  },
  {
   "cell_type": "markdown",
   "id": "3ae1f8a4",
   "metadata": {},
   "source": [
    "### ORM declarative table (ORM mapped class)\n",
    "\n",
    "PEP 484\n",
    "https://peps.python.org/pep-0484/\n"
   ]
  },
  {
   "cell_type": "code",
   "execution_count": 1,
   "id": "fb470352",
   "metadata": {},
   "outputs": [],
   "source": [
    "from sqlalchemy.orm import DeclarativeBase\n",
    "class Base(DeclarativeBase):\n",
    "    pass"
   ]
  },
  {
   "cell_type": "code",
   "execution_count": 2,
   "id": "c0f0954a",
   "metadata": {},
   "outputs": [
    {
     "data": {
      "text/plain": [
       "MetaData()"
      ]
     },
     "execution_count": 2,
     "metadata": {},
     "output_type": "execute_result"
    }
   ],
   "source": [
    "Base.metadata"
   ]
  },
  {
   "cell_type": "code",
   "execution_count": 6,
   "id": "05f16f48",
   "metadata": {},
   "outputs": [],
   "source": [
    "from typing import List\n",
    "from typing import Optional\n",
    "from sqlalchemy.orm import Mapped\n",
    "from sqlalchemy.orm import mapped_column\n",
    "from sqlalchemy.orm import relationship\n",
    "from sqlalchemy import String\n",
    "from sqlalchemy import ForeignKey"
   ]
  },
  {
   "cell_type": "code",
   "execution_count": 4,
   "id": "031a0955",
   "metadata": {},
   "outputs": [],
   "source": [
    "class User(Base):\n",
    "    __tablename__ = \"user_account\"\n",
    "    \n",
    "    id: Mapped[int] = mapped_column(primary_key=True)\n",
    "    name: Mapped[str] = mapped_column(String(30))\n",
    "    fullname: Mapped[Optional[str]]   # can be null\n",
    "        \n",
    "    addresses: Mapped[List[\"Address\"]] = relationship(back_populates=\"user\")\n",
    "    \n",
    "    def __repr__(self) -> str:\n",
    "        return f\"User(id={self.id!r}), name={self.name!r}, fullname={self.fullname!r})\""
   ]
  },
  {
   "cell_type": "code",
   "execution_count": 7,
   "id": "e879bb21",
   "metadata": {},
   "outputs": [],
   "source": [
    "class Address(Base):\n",
    "    __tablename__ = \"address\"\n",
    "    \n",
    "    id: Mapped[int] = mapped_column(primary_key=True)\n",
    "    user_id: Mapped[int] = mapped_column(ForeignKey(\"user_account.id\"))\n",
    "    email_address: Mapped[str]\n",
    "        \n",
    "    user: Mapped[User] = relationship(back_populates=\"addresses\")\n",
    "        \n",
    "    def __repr__(self) -> str:\n",
    "        return f\"Address(id={self.id!r}, email_address={self.email_address!r})\""
   ]
  },
  {
   "cell_type": "code",
   "execution_count": null,
   "id": "ecab0a6e",
   "metadata": {},
   "outputs": [],
   "source": []
  },
  {
   "cell_type": "code",
   "execution_count": 8,
   "id": "83cd5e37",
   "metadata": {},
   "outputs": [],
   "source": [
    "sandy = User(name=\"sandy\", fullname=\"Sandy Cheeks\")"
   ]
  },
  {
   "cell_type": "code",
   "execution_count": 9,
   "id": "76d2b86b",
   "metadata": {},
   "outputs": [
    {
     "data": {
      "text/plain": [
       "User(id=None), name='sandy'"
      ]
     },
     "execution_count": 9,
     "metadata": {},
     "output_type": "execute_result"
    }
   ],
   "source": [
    "sandy"
   ]
  },
  {
   "cell_type": "code",
   "execution_count": null,
   "id": "a9736990",
   "metadata": {},
   "outputs": [],
   "source": []
  },
  {
   "cell_type": "code",
   "execution_count": 10,
   "id": "b5699fa1",
   "metadata": {},
   "outputs": [
    {
     "data": {
      "text/plain": [
       "MetaData()"
      ]
     },
     "execution_count": 10,
     "metadata": {},
     "output_type": "execute_result"
    }
   ],
   "source": [
    "Base.metadata"
   ]
  },
  {
   "cell_type": "code",
   "execution_count": 11,
   "id": "c84e416d",
   "metadata": {},
   "outputs": [
    {
     "data": {
      "text/plain": [
       "<sqlalchemy.orm.decl_api.registry at 0x28b93685ed0>"
      ]
     },
     "execution_count": 11,
     "metadata": {},
     "output_type": "execute_result"
    }
   ],
   "source": [
    "Base.registry"
   ]
  },
  {
   "cell_type": "code",
   "execution_count": 14,
   "id": "617e2644",
   "metadata": {},
   "outputs": [
    {
     "data": {
      "text/plain": [
       "[Table('user_account', MetaData(), Column('id', Integer(), table=<user_account>, primary_key=True, nullable=False), Column('name', String(length=30), table=<user_account>, nullable=False), Column('fullname', String(), table=<user_account>), schema=None),\n",
       " Table('address', MetaData(), Column('id', Integer(), table=<address>, primary_key=True, nullable=False), Column('user_id', Integer(), ForeignKey('user_account.id'), table=<address>, nullable=False), Column('email_address', String(), table=<address>, nullable=False), schema=None)]"
      ]
     },
     "execution_count": 14,
     "metadata": {},
     "output_type": "execute_result"
    }
   ],
   "source": [
    "Base.metadata.sorted_tables"
   ]
  },
  {
   "cell_type": "code",
   "execution_count": null,
   "id": "984f6e62",
   "metadata": {},
   "outputs": [],
   "source": []
  },
  {
   "cell_type": "code",
   "execution_count": 15,
   "id": "106e67aa",
   "metadata": {},
   "outputs": [],
   "source": [
    "# need an engine for it\n",
    "from sqlalchemy import create_engine\n",
    "engine = create_engine(\"sqlite+pysqlite:///:memory:\", echo=True)"
   ]
  },
  {
   "cell_type": "code",
   "execution_count": 16,
   "id": "43e476b9",
   "metadata": {},
   "outputs": [
    {
     "name": "stdout",
     "output_type": "stream",
     "text": [
      "2023-10-31 12:42:27,227 INFO sqlalchemy.engine.Engine BEGIN (implicit)\n",
      "2023-10-31 12:42:27,229 INFO sqlalchemy.engine.Engine PRAGMA main.table_info(\"user_account\")\n",
      "2023-10-31 12:42:27,230 INFO sqlalchemy.engine.Engine [raw sql] ()\n",
      "2023-10-31 12:42:27,232 INFO sqlalchemy.engine.Engine PRAGMA temp.table_info(\"user_account\")\n",
      "2023-10-31 12:42:27,235 INFO sqlalchemy.engine.Engine [raw sql] ()\n",
      "2023-10-31 12:42:27,236 INFO sqlalchemy.engine.Engine PRAGMA main.table_info(\"address\")\n",
      "2023-10-31 12:42:27,237 INFO sqlalchemy.engine.Engine [raw sql] ()\n",
      "2023-10-31 12:42:27,238 INFO sqlalchemy.engine.Engine PRAGMA temp.table_info(\"address\")\n",
      "2023-10-31 12:42:27,251 INFO sqlalchemy.engine.Engine [raw sql] ()\n",
      "2023-10-31 12:42:27,253 INFO sqlalchemy.engine.Engine \n",
      "CREATE TABLE user_account (\n",
      "\tid INTEGER NOT NULL, \n",
      "\tname VARCHAR(30) NOT NULL, \n",
      "\tfullname VARCHAR, \n",
      "\tPRIMARY KEY (id)\n",
      ")\n",
      "\n",
      "\n",
      "2023-10-31 12:42:27,255 INFO sqlalchemy.engine.Engine [no key 0.00153s] ()\n",
      "2023-10-31 12:42:27,256 INFO sqlalchemy.engine.Engine \n",
      "CREATE TABLE address (\n",
      "\tid INTEGER NOT NULL, \n",
      "\tuser_id INTEGER NOT NULL, \n",
      "\temail_address VARCHAR NOT NULL, \n",
      "\tPRIMARY KEY (id), \n",
      "\tFOREIGN KEY(user_id) REFERENCES user_account (id)\n",
      ")\n",
      "\n",
      "\n",
      "2023-10-31 12:42:27,257 INFO sqlalchemy.engine.Engine [no key 0.00066s] ()\n",
      "2023-10-31 12:42:27,259 INFO sqlalchemy.engine.Engine COMMIT\n"
     ]
    }
   ],
   "source": [
    "Base.metadata.create_all(engine)"
   ]
  },
  {
   "cell_type": "code",
   "execution_count": null,
   "id": "1e26a481",
   "metadata": {},
   "outputs": [],
   "source": []
  },
  {
   "cell_type": "markdown",
   "id": "6d3f7f0a",
   "metadata": {},
   "source": [
    "#### table reflection : from data table to schema (?)"
   ]
  },
  {
   "cell_type": "code",
   "execution_count": 20,
   "id": "834000cb",
   "metadata": {},
   "outputs": [],
   "source": [
    "from sqlalchemy import Table\n",
    "from sqlalchemy import MetaData\n"
   ]
  },
  {
   "cell_type": "code",
   "execution_count": 39,
   "id": "3122aeb9",
   "metadata": {},
   "outputs": [],
   "source": [
    "metadata_obj = MetaData()\n"
   ]
  },
  {
   "cell_type": "code",
   "execution_count": 40,
   "id": "2655999b",
   "metadata": {},
   "outputs": [
    {
     "name": "stdout",
     "output_type": "stream",
     "text": [
      "2023-10-31 12:47:04,691 INFO sqlalchemy.engine.Engine BEGIN (implicit)\n",
      "2023-10-31 12:47:04,693 INFO sqlalchemy.engine.Engine PRAGMA main.table_xinfo(\"some_table\")\n",
      "2023-10-31 12:47:04,695 INFO sqlalchemy.engine.Engine [raw sql] ()\n",
      "2023-10-31 12:47:04,695 INFO sqlalchemy.engine.Engine SELECT sql FROM  (SELECT * FROM sqlite_master UNION ALL   SELECT * FROM sqlite_temp_master) WHERE name = ? AND type in ('table', 'view')\n",
      "2023-10-31 12:47:04,696 INFO sqlalchemy.engine.Engine [raw sql] ('some_table',)\n",
      "2023-10-31 12:47:04,697 INFO sqlalchemy.engine.Engine PRAGMA main.foreign_key_list(\"some_table\")\n",
      "2023-10-31 12:47:04,698 INFO sqlalchemy.engine.Engine [raw sql] ()\n",
      "2023-10-31 12:47:04,699 INFO sqlalchemy.engine.Engine PRAGMA temp.foreign_key_list(\"some_table\")\n",
      "2023-10-31 12:47:04,699 INFO sqlalchemy.engine.Engine [raw sql] ()\n",
      "2023-10-31 12:47:04,700 INFO sqlalchemy.engine.Engine SELECT sql FROM  (SELECT * FROM sqlite_master UNION ALL   SELECT * FROM sqlite_temp_master) WHERE name = ? AND type in ('table', 'view')\n",
      "2023-10-31 12:47:04,702 INFO sqlalchemy.engine.Engine [raw sql] ('some_table',)\n",
      "2023-10-31 12:47:04,705 INFO sqlalchemy.engine.Engine PRAGMA main.index_list(\"some_table\")\n",
      "2023-10-31 12:47:04,706 INFO sqlalchemy.engine.Engine [raw sql] ()\n",
      "2023-10-31 12:47:04,708 INFO sqlalchemy.engine.Engine PRAGMA temp.index_list(\"some_table\")\n",
      "2023-10-31 12:47:04,709 INFO sqlalchemy.engine.Engine [raw sql] ()\n",
      "2023-10-31 12:47:04,710 INFO sqlalchemy.engine.Engine PRAGMA main.table_info(\"some_table\")\n",
      "2023-10-31 12:47:04,711 INFO sqlalchemy.engine.Engine [raw sql] ()\n",
      "2023-10-31 12:47:04,713 INFO sqlalchemy.engine.Engine PRAGMA main.index_list(\"some_table\")\n",
      "2023-10-31 12:47:04,713 INFO sqlalchemy.engine.Engine [raw sql] ()\n",
      "2023-10-31 12:47:04,714 INFO sqlalchemy.engine.Engine PRAGMA temp.index_list(\"some_table\")\n",
      "2023-10-31 12:47:04,715 INFO sqlalchemy.engine.Engine [raw sql] ()\n",
      "2023-10-31 12:47:04,716 INFO sqlalchemy.engine.Engine PRAGMA main.table_info(\"some_table\")\n",
      "2023-10-31 12:47:04,716 INFO sqlalchemy.engine.Engine [raw sql] ()\n",
      "2023-10-31 12:47:04,717 INFO sqlalchemy.engine.Engine SELECT sql FROM  (SELECT * FROM sqlite_master UNION ALL   SELECT * FROM sqlite_temp_master) WHERE name = ? AND type in ('table', 'view')\n",
      "2023-10-31 12:47:04,717 INFO sqlalchemy.engine.Engine [raw sql] ('some_table',)\n",
      "2023-10-31 12:47:04,721 INFO sqlalchemy.engine.Engine ROLLBACK\n"
     ]
    }
   ],
   "source": [
    "some_table = Table(\"some_table\", metadata_obj, autoload_with=engine)"
   ]
  },
  {
   "cell_type": "code",
   "execution_count": 43,
   "id": "bd3947ec",
   "metadata": {},
   "outputs": [
    {
     "data": {
      "text/plain": [
       "Table('some_table', MetaData(), Column('x', INTEGER(), table=<some_table>), Column('y', INTEGER(), table=<some_table>), schema=None)"
      ]
     },
     "execution_count": 43,
     "metadata": {},
     "output_type": "execute_result"
    }
   ],
   "source": [
    "some_table"
   ]
  },
  {
   "cell_type": "code",
   "execution_count": null,
   "id": "a2dd3ab3",
   "metadata": {},
   "outputs": [],
   "source": []
  },
  {
   "cell_type": "code",
   "execution_count": null,
   "id": "a26a9789",
   "metadata": {},
   "outputs": [],
   "source": []
  },
  {
   "cell_type": "markdown",
   "id": "edbcd3e8",
   "metadata": {},
   "source": [
    "# Manipulating data"
   ]
  },
  {
   "cell_type": "code",
   "execution_count": 54,
   "id": "3886f4d3",
   "metadata": {},
   "outputs": [],
   "source": [
    "from sqlalchemy import insert\n",
    "stmt = insert(user_table).values(name=\"spongebob\", fullname=\"Spongebob Squarepants\")"
   ]
  },
  {
   "cell_type": "code",
   "execution_count": 55,
   "id": "b84f1ac7",
   "metadata": {},
   "outputs": [
    {
     "name": "stdout",
     "output_type": "stream",
     "text": [
      "INSERT INTO user_account (name, fullname) VALUES (:name, :fullname)\n"
     ]
    }
   ],
   "source": [
    "print(stmt)"
   ]
  },
  {
   "cell_type": "code",
   "execution_count": 56,
   "id": "68a4e40b",
   "metadata": {},
   "outputs": [],
   "source": [
    "compiled = stmt.compile()"
   ]
  },
  {
   "cell_type": "code",
   "execution_count": 59,
   "id": "9b20532f",
   "metadata": {},
   "outputs": [
    {
     "data": {
      "text/plain": [
       "{'name': 'spongebob', 'fullname': 'Spongebob Squarepants'}"
      ]
     },
     "execution_count": 59,
     "metadata": {},
     "output_type": "execute_result"
    }
   ],
   "source": [
    "compiled.params"
   ]
  },
  {
   "cell_type": "code",
   "execution_count": 63,
   "id": "54cc55cf",
   "metadata": {},
   "outputs": [
    {
     "name": "stdout",
     "output_type": "stream",
     "text": [
      "2023-10-31 13:35:53,776 INFO sqlalchemy.engine.Engine BEGIN (implicit)\n",
      "2023-10-31 13:35:53,778 INFO sqlalchemy.engine.Engine INSERT INTO user_account (name, fullname) VALUES (?, ?)\n",
      "2023-10-31 13:35:53,779 INFO sqlalchemy.engine.Engine [generated in 0.00243s] ('spongebob', 'Spongebob Squarepants')\n",
      "2023-10-31 13:35:53,779 INFO sqlalchemy.engine.Engine COMMIT\n"
     ]
    }
   ],
   "source": [
    "with engine.connect() as conn:\n",
    "    result = conn.execute(stmt)\n",
    "    conn.commit()"
   ]
  },
  {
   "cell_type": "code",
   "execution_count": 64,
   "id": "e3516f5c",
   "metadata": {},
   "outputs": [
    {
     "data": {
      "text/plain": [
       "(1,)"
      ]
     },
     "execution_count": 64,
     "metadata": {},
     "output_type": "execute_result"
    }
   ],
   "source": [
    "result.inserted_primary_key"
   ]
  },
  {
   "cell_type": "code",
   "execution_count": 67,
   "id": "694c1d81",
   "metadata": {},
   "outputs": [
    {
     "name": "stdout",
     "output_type": "stream",
     "text": [
      "2023-10-31 13:37:04,239 INFO sqlalchemy.engine.Engine BEGIN (implicit)\n",
      "2023-10-31 13:37:04,240 INFO sqlalchemy.engine.Engine INSERT INTO user_account (name, fullname) VALUES (?, ?)\n",
      "2023-10-31 13:37:04,242 INFO sqlalchemy.engine.Engine [cached since 70.47s ago] ('clark', 'Clark Superman')\n",
      "2023-10-31 13:37:04,243 INFO sqlalchemy.engine.Engine COMMIT\n",
      "(3,)\n"
     ]
    }
   ],
   "source": [
    "stmt2 = insert(user_table).values(name=\"clark\", fullname=\"Clark Superman\")\n",
    "with engine.connect() as conn:\n",
    "    result = conn.execute(stmt2)\n",
    "    conn.commit()\n",
    "    print(result.inserted_primary_key)"
   ]
  },
  {
   "cell_type": "code",
   "execution_count": 70,
   "id": "16901a7a",
   "metadata": {},
   "outputs": [
    {
     "name": "stdout",
     "output_type": "stream",
     "text": [
      "2023-10-31 13:39:45,752 INFO sqlalchemy.engine.Engine BEGIN (implicit)\n",
      "2023-10-31 13:39:45,753 INFO sqlalchemy.engine.Engine INSERT INTO user_account (name, fullname) VALUES (?, ?)\n",
      "2023-10-31 13:39:45,755 INFO sqlalchemy.engine.Engine [cached since 27.78s ago] [('sandy', 'Sandy Cheeks'), ('patrick', 'Patrick Star')]\n",
      "2023-10-31 13:39:45,755 INFO sqlalchemy.engine.Engine COMMIT\n",
      "[(None,), (None,)]\n"
     ]
    }
   ],
   "source": [
    "with engine.connect() as conn:\n",
    "    result = conn.execute(\n",
    "        insert(user_table),\n",
    "        [\n",
    "            {\"name\": \"sandy\", \"fullname\": \"Sandy Cheeks\"},\n",
    "            {\"name\": \"patrick\", \"fullname\": \"Patrick Star\"},\n",
    "        ],\n",
    "    )\n",
    "    conn.commit()\n",
    "    print(result.inserted_primary_key_rows)"
   ]
  },
  {
   "cell_type": "code",
   "execution_count": null,
   "id": "3354b19e",
   "metadata": {},
   "outputs": [],
   "source": []
  },
  {
   "cell_type": "code",
   "execution_count": 71,
   "id": "c663712e",
   "metadata": {},
   "outputs": [
    {
     "name": "stdout",
     "output_type": "stream",
     "text": [
      "2023-10-31 13:44:49,042 INFO sqlalchemy.engine.Engine BEGIN (implicit)\n",
      "2023-10-31 13:44:49,043 INFO sqlalchemy.engine.Engine INSERT INTO address (user_id, email_address) VALUES ((SELECT user_account.id \n",
      "FROM user_account \n",
      "WHERE user_account.name = ?), ?)\n",
      "2023-10-31 13:44:49,045 INFO sqlalchemy.engine.Engine [generated in 0.00259s] [('spongebob', 'spongebob@sqlalchemy.org'), ('sandy', 'sandy@sqlalchemy.org'), ('sandy', 'sandy@squirrelpower.org')]\n",
      "2023-10-31 13:44:49,046 INFO sqlalchemy.engine.Engine COMMIT\n"
     ]
    }
   ],
   "source": [
    "# advanced alchemy T.T\n",
    "\n",
    "from sqlalchemy import select, bindparam\n",
    "scalar_subq = (\n",
    "    select(user_table.c.id)\n",
    "    .where(user_table.c.name == bindparam(\"username\"))\n",
    "    .scalar_subquery()\n",
    ")\n",
    "\n",
    "with engine.connect() as conn:\n",
    "    result = conn.execute(\n",
    "        insert(address_table).values(user_id=scalar_subq),\n",
    "        [\n",
    "            {\n",
    "                \"username\": \"spongebob\",\n",
    "                \"email_address\": \"spongebob@sqlalchemy.org\",\n",
    "            },\n",
    "            {\"username\": \"sandy\", \"email_address\": \"sandy@sqlalchemy.org\"},\n",
    "            {\"username\": \"sandy\", \"email_address\": \"sandy@squirrelpower.org\"},\n",
    "        ],\n",
    "    )\n",
    "    conn.commit()"
   ]
  },
  {
   "cell_type": "code",
   "execution_count": 72,
   "id": "a438e913",
   "metadata": {},
   "outputs": [
    {
     "name": "stdout",
     "output_type": "stream",
     "text": [
      "INSERT INTO address (id, user_id, email_address) VALUES (:id, :user_id, :email_address) RETURNING address.id, address.email_address\n"
     ]
    }
   ],
   "source": [
    "insert_stmt = insert(address_table).returning(\n",
    "    address_table.c.id, address_table.c.email_address\n",
    ")\n",
    "print(insert_stmt)"
   ]
  },
  {
   "cell_type": "markdown",
   "id": "34135cee",
   "metadata": {},
   "source": [
    "\n",
    "#### insert from select \n",
    "when want to copy data from one part of the database into a new set of rows without fetching and re-sending the data from the client"
   ]
  },
  {
   "cell_type": "code",
   "execution_count": 73,
   "id": "3d6fb02a",
   "metadata": {},
   "outputs": [
    {
     "name": "stdout",
     "output_type": "stream",
     "text": [
      "INSERT INTO address (user_id, email_address) SELECT user_account.id, user_account.name || :name_1 AS anon_1 \n",
      "FROM user_account RETURNING address.id, address.email_address\n"
     ]
    }
   ],
   "source": [
    "select_stmt = select(user_table.c.id, user_table.c.name + \"@aol.com\")\n",
    "insert_stmt = insert(address_table).from_select(\n",
    "    [\"user_id\", \"email_address\"], select_stmt\n",
    ")\n",
    "print(insert_stmt.returning(address_table.c.id, address_table.c.email_address))"
   ]
  },
  {
   "cell_type": "code",
   "execution_count": 74,
   "id": "f1800e97",
   "metadata": {
    "collapsed": true
   },
   "outputs": [
    {
     "name": "stdout",
     "output_type": "stream",
     "text": [
      "2023-10-31 13:50:59,567 INFO sqlalchemy.engine.Engine BEGIN (implicit)\n",
      "2023-10-31 13:50:59,568 INFO sqlalchemy.engine.Engine INSERT INTO address (user_id, email_address) SELECT user_account.id, user_account.name || ? AS anon_1 \n",
      "FROM user_account RETURNING id, email_address\n",
      "2023-10-31 13:50:59,569 INFO sqlalchemy.engine.Engine [generated in 0.00317s] ('@aol.com',)\n",
      "2023-10-31 13:50:59,571 INFO sqlalchemy.engine.Engine COMMIT\n"
     ]
    },
    {
     "ename": "OperationalError",
     "evalue": "(sqlite3.OperationalError) cannot commit transaction - SQL statements in progress\n(Background on this error at: https://sqlalche.me/e/20/e3q8)",
     "output_type": "error",
     "traceback": [
      "\u001b[1;31m---------------------------------------------------------------------------\u001b[0m",
      "\u001b[1;31mOperationalError\u001b[0m                          Traceback (most recent call last)",
      "File \u001b[1;32m~\\anaconda3\\envs\\WEB\\Lib\\site-packages\\sqlalchemy\\engine\\base.py:1132\u001b[0m, in \u001b[0;36mConnection._commit_impl\u001b[1;34m(self)\u001b[0m\n\u001b[0;32m   1131\u001b[0m \u001b[38;5;28;01mtry\u001b[39;00m:\n\u001b[1;32m-> 1132\u001b[0m     \u001b[38;5;28;43mself\u001b[39;49m\u001b[38;5;241;43m.\u001b[39;49m\u001b[43mengine\u001b[49m\u001b[38;5;241;43m.\u001b[39;49m\u001b[43mdialect\u001b[49m\u001b[38;5;241;43m.\u001b[39;49m\u001b[43mdo_commit\u001b[49m\u001b[43m(\u001b[49m\u001b[38;5;28;43mself\u001b[39;49m\u001b[38;5;241;43m.\u001b[39;49m\u001b[43mconnection\u001b[49m\u001b[43m)\u001b[49m\n\u001b[0;32m   1133\u001b[0m \u001b[38;5;28;01mexcept\u001b[39;00m \u001b[38;5;167;01mBaseException\u001b[39;00m \u001b[38;5;28;01mas\u001b[39;00m e:\n",
      "File \u001b[1;32m~\\anaconda3\\envs\\WEB\\Lib\\site-packages\\sqlalchemy\\engine\\default.py:694\u001b[0m, in \u001b[0;36mDefaultDialect.do_commit\u001b[1;34m(self, dbapi_connection)\u001b[0m\n\u001b[0;32m    693\u001b[0m \u001b[38;5;28;01mdef\u001b[39;00m \u001b[38;5;21mdo_commit\u001b[39m(\u001b[38;5;28mself\u001b[39m, dbapi_connection):\n\u001b[1;32m--> 694\u001b[0m     \u001b[43mdbapi_connection\u001b[49m\u001b[38;5;241;43m.\u001b[39;49m\u001b[43mcommit\u001b[49m\u001b[43m(\u001b[49m\u001b[43m)\u001b[49m\n",
      "\u001b[1;31mOperationalError\u001b[0m: cannot commit transaction - SQL statements in progress",
      "\nThe above exception was the direct cause of the following exception:\n",
      "\u001b[1;31mOperationalError\u001b[0m                          Traceback (most recent call last)",
      "Cell \u001b[1;32mIn[74], line 3\u001b[0m\n\u001b[0;32m      1\u001b[0m \u001b[38;5;28;01mwith\u001b[39;00m engine\u001b[38;5;241m.\u001b[39mconnect() \u001b[38;5;28;01mas\u001b[39;00m conn:\n\u001b[0;32m      2\u001b[0m     result \u001b[38;5;241m=\u001b[39m conn\u001b[38;5;241m.\u001b[39mexecute(insert_stmt\u001b[38;5;241m.\u001b[39mreturning(address_table\u001b[38;5;241m.\u001b[39mc\u001b[38;5;241m.\u001b[39mid, address_table\u001b[38;5;241m.\u001b[39mc\u001b[38;5;241m.\u001b[39memail_address))\n\u001b[1;32m----> 3\u001b[0m     \u001b[43mconn\u001b[49m\u001b[38;5;241;43m.\u001b[39;49m\u001b[43mcommit\u001b[49m\u001b[43m(\u001b[49m\u001b[43m)\u001b[49m\n\u001b[0;32m      4\u001b[0m     \u001b[38;5;28mprint\u001b[39m(result)\n",
      "File \u001b[1;32m~\\anaconda3\\envs\\WEB\\Lib\\site-packages\\sqlalchemy\\engine\\base.py:989\u001b[0m, in \u001b[0;36mConnection.commit\u001b[1;34m(self)\u001b[0m\n\u001b[0;32m    967\u001b[0m \u001b[38;5;250m\u001b[39m\u001b[38;5;124;03m\"\"\"Commit the transaction that is currently in progress.\u001b[39;00m\n\u001b[0;32m    968\u001b[0m \n\u001b[0;32m    969\u001b[0m \u001b[38;5;124;03mThis method commits the current transaction if one has been started.\u001b[39;00m\n\u001b[1;32m   (...)\u001b[0m\n\u001b[0;32m    986\u001b[0m \n\u001b[0;32m    987\u001b[0m \u001b[38;5;124;03m\"\"\"\u001b[39;00m\n\u001b[0;32m    988\u001b[0m \u001b[38;5;28;01mif\u001b[39;00m \u001b[38;5;28mself\u001b[39m\u001b[38;5;241m.\u001b[39m_transaction:\n\u001b[1;32m--> 989\u001b[0m     \u001b[38;5;28;43mself\u001b[39;49m\u001b[38;5;241;43m.\u001b[39;49m\u001b[43m_transaction\u001b[49m\u001b[38;5;241;43m.\u001b[39;49m\u001b[43mcommit\u001b[49m\u001b[43m(\u001b[49m\u001b[43m)\u001b[49m\n",
      "File \u001b[1;32m~\\anaconda3\\envs\\WEB\\Lib\\site-packages\\sqlalchemy\\engine\\base.py:2615\u001b[0m, in \u001b[0;36mTransaction.commit\u001b[1;34m(self)\u001b[0m\n\u001b[0;32m   2599\u001b[0m \u001b[38;5;250m\u001b[39m\u001b[38;5;124;03m\"\"\"Commit this :class:`.Transaction`.\u001b[39;00m\n\u001b[0;32m   2600\u001b[0m \n\u001b[0;32m   2601\u001b[0m \u001b[38;5;124;03mThe implementation of this may vary based on the type of transaction in\u001b[39;00m\n\u001b[1;32m   (...)\u001b[0m\n\u001b[0;32m   2612\u001b[0m \n\u001b[0;32m   2613\u001b[0m \u001b[38;5;124;03m\"\"\"\u001b[39;00m\n\u001b[0;32m   2614\u001b[0m \u001b[38;5;28;01mtry\u001b[39;00m:\n\u001b[1;32m-> 2615\u001b[0m     \u001b[38;5;28;43mself\u001b[39;49m\u001b[38;5;241;43m.\u001b[39;49m\u001b[43m_do_commit\u001b[49m\u001b[43m(\u001b[49m\u001b[43m)\u001b[49m\n\u001b[0;32m   2616\u001b[0m \u001b[38;5;28;01mfinally\u001b[39;00m:\n\u001b[0;32m   2617\u001b[0m     \u001b[38;5;28;01massert\u001b[39;00m \u001b[38;5;129;01mnot\u001b[39;00m \u001b[38;5;28mself\u001b[39m\u001b[38;5;241m.\u001b[39mis_active\n",
      "File \u001b[1;32m~\\anaconda3\\envs\\WEB\\Lib\\site-packages\\sqlalchemy\\engine\\base.py:2720\u001b[0m, in \u001b[0;36mRootTransaction._do_commit\u001b[1;34m(self)\u001b[0m\n\u001b[0;32m   2717\u001b[0m \u001b[38;5;28;01massert\u001b[39;00m \u001b[38;5;28mself\u001b[39m\u001b[38;5;241m.\u001b[39mconnection\u001b[38;5;241m.\u001b[39m_transaction \u001b[38;5;129;01mis\u001b[39;00m \u001b[38;5;28mself\u001b[39m\n\u001b[0;32m   2719\u001b[0m \u001b[38;5;28;01mtry\u001b[39;00m:\n\u001b[1;32m-> 2720\u001b[0m     \u001b[38;5;28;43mself\u001b[39;49m\u001b[38;5;241;43m.\u001b[39;49m\u001b[43m_connection_commit_impl\u001b[49m\u001b[43m(\u001b[49m\u001b[43m)\u001b[49m\n\u001b[0;32m   2721\u001b[0m \u001b[38;5;28;01mfinally\u001b[39;00m:\n\u001b[0;32m   2722\u001b[0m     \u001b[38;5;66;03m# whether or not commit succeeds, cancel any\u001b[39;00m\n\u001b[0;32m   2723\u001b[0m     \u001b[38;5;66;03m# nested transactions, make this transaction \"inactive\"\u001b[39;00m\n\u001b[0;32m   2724\u001b[0m     \u001b[38;5;66;03m# and remove it as a reset agent\u001b[39;00m\n\u001b[0;32m   2725\u001b[0m     \u001b[38;5;28;01mif\u001b[39;00m \u001b[38;5;28mself\u001b[39m\u001b[38;5;241m.\u001b[39mconnection\u001b[38;5;241m.\u001b[39m_nested_transaction:\n",
      "File \u001b[1;32m~\\anaconda3\\envs\\WEB\\Lib\\site-packages\\sqlalchemy\\engine\\base.py:2691\u001b[0m, in \u001b[0;36mRootTransaction._connection_commit_impl\u001b[1;34m(self)\u001b[0m\n\u001b[0;32m   2690\u001b[0m \u001b[38;5;28;01mdef\u001b[39;00m \u001b[38;5;21m_connection_commit_impl\u001b[39m(\u001b[38;5;28mself\u001b[39m) \u001b[38;5;241m-\u001b[39m\u001b[38;5;241m>\u001b[39m \u001b[38;5;28;01mNone\u001b[39;00m:\n\u001b[1;32m-> 2691\u001b[0m     \u001b[38;5;28;43mself\u001b[39;49m\u001b[38;5;241;43m.\u001b[39;49m\u001b[43mconnection\u001b[49m\u001b[38;5;241;43m.\u001b[39;49m\u001b[43m_commit_impl\u001b[49m\u001b[43m(\u001b[49m\u001b[43m)\u001b[49m\n",
      "File \u001b[1;32m~\\anaconda3\\envs\\WEB\\Lib\\site-packages\\sqlalchemy\\engine\\base.py:1134\u001b[0m, in \u001b[0;36mConnection._commit_impl\u001b[1;34m(self)\u001b[0m\n\u001b[0;32m   1132\u001b[0m     \u001b[38;5;28mself\u001b[39m\u001b[38;5;241m.\u001b[39mengine\u001b[38;5;241m.\u001b[39mdialect\u001b[38;5;241m.\u001b[39mdo_commit(\u001b[38;5;28mself\u001b[39m\u001b[38;5;241m.\u001b[39mconnection)\n\u001b[0;32m   1133\u001b[0m \u001b[38;5;28;01mexcept\u001b[39;00m \u001b[38;5;167;01mBaseException\u001b[39;00m \u001b[38;5;28;01mas\u001b[39;00m e:\n\u001b[1;32m-> 1134\u001b[0m     \u001b[38;5;28;43mself\u001b[39;49m\u001b[38;5;241;43m.\u001b[39;49m\u001b[43m_handle_dbapi_exception\u001b[49m\u001b[43m(\u001b[49m\u001b[43me\u001b[49m\u001b[43m,\u001b[49m\u001b[43m \u001b[49m\u001b[38;5;28;43;01mNone\u001b[39;49;00m\u001b[43m,\u001b[49m\u001b[43m \u001b[49m\u001b[38;5;28;43;01mNone\u001b[39;49;00m\u001b[43m,\u001b[49m\u001b[43m \u001b[49m\u001b[38;5;28;43;01mNone\u001b[39;49;00m\u001b[43m,\u001b[49m\u001b[43m \u001b[49m\u001b[38;5;28;43;01mNone\u001b[39;49;00m\u001b[43m)\u001b[49m\n",
      "File \u001b[1;32m~\\anaconda3\\envs\\WEB\\Lib\\site-packages\\sqlalchemy\\engine\\base.py:2339\u001b[0m, in \u001b[0;36mConnection._handle_dbapi_exception\u001b[1;34m(self, e, statement, parameters, cursor, context, is_sub_exec)\u001b[0m\n\u001b[0;32m   2337\u001b[0m \u001b[38;5;28;01melif\u001b[39;00m should_wrap:\n\u001b[0;32m   2338\u001b[0m     \u001b[38;5;28;01massert\u001b[39;00m sqlalchemy_exception \u001b[38;5;129;01mis\u001b[39;00m \u001b[38;5;129;01mnot\u001b[39;00m \u001b[38;5;28;01mNone\u001b[39;00m\n\u001b[1;32m-> 2339\u001b[0m     \u001b[38;5;28;01mraise\u001b[39;00m sqlalchemy_exception\u001b[38;5;241m.\u001b[39mwith_traceback(exc_info[\u001b[38;5;241m2\u001b[39m]) \u001b[38;5;28;01mfrom\u001b[39;00m \u001b[38;5;21;01me\u001b[39;00m\n\u001b[0;32m   2340\u001b[0m \u001b[38;5;28;01melse\u001b[39;00m:\n\u001b[0;32m   2341\u001b[0m     \u001b[38;5;28;01massert\u001b[39;00m exc_info[\u001b[38;5;241m1\u001b[39m] \u001b[38;5;129;01mis\u001b[39;00m \u001b[38;5;129;01mnot\u001b[39;00m \u001b[38;5;28;01mNone\u001b[39;00m\n",
      "File \u001b[1;32m~\\anaconda3\\envs\\WEB\\Lib\\site-packages\\sqlalchemy\\engine\\base.py:1132\u001b[0m, in \u001b[0;36mConnection._commit_impl\u001b[1;34m(self)\u001b[0m\n\u001b[0;32m   1130\u001b[0m         \u001b[38;5;28mself\u001b[39m\u001b[38;5;241m.\u001b[39m_log_info(\u001b[38;5;124m\"\u001b[39m\u001b[38;5;124mCOMMIT\u001b[39m\u001b[38;5;124m\"\u001b[39m)\n\u001b[0;32m   1131\u001b[0m \u001b[38;5;28;01mtry\u001b[39;00m:\n\u001b[1;32m-> 1132\u001b[0m     \u001b[38;5;28;43mself\u001b[39;49m\u001b[38;5;241;43m.\u001b[39;49m\u001b[43mengine\u001b[49m\u001b[38;5;241;43m.\u001b[39;49m\u001b[43mdialect\u001b[49m\u001b[38;5;241;43m.\u001b[39;49m\u001b[43mdo_commit\u001b[49m\u001b[43m(\u001b[49m\u001b[38;5;28;43mself\u001b[39;49m\u001b[38;5;241;43m.\u001b[39;49m\u001b[43mconnection\u001b[49m\u001b[43m)\u001b[49m\n\u001b[0;32m   1133\u001b[0m \u001b[38;5;28;01mexcept\u001b[39;00m \u001b[38;5;167;01mBaseException\u001b[39;00m \u001b[38;5;28;01mas\u001b[39;00m e:\n\u001b[0;32m   1134\u001b[0m     \u001b[38;5;28mself\u001b[39m\u001b[38;5;241m.\u001b[39m_handle_dbapi_exception(e, \u001b[38;5;28;01mNone\u001b[39;00m, \u001b[38;5;28;01mNone\u001b[39;00m, \u001b[38;5;28;01mNone\u001b[39;00m, \u001b[38;5;28;01mNone\u001b[39;00m)\n",
      "File \u001b[1;32m~\\anaconda3\\envs\\WEB\\Lib\\site-packages\\sqlalchemy\\engine\\default.py:694\u001b[0m, in \u001b[0;36mDefaultDialect.do_commit\u001b[1;34m(self, dbapi_connection)\u001b[0m\n\u001b[0;32m    693\u001b[0m \u001b[38;5;28;01mdef\u001b[39;00m \u001b[38;5;21mdo_commit\u001b[39m(\u001b[38;5;28mself\u001b[39m, dbapi_connection):\n\u001b[1;32m--> 694\u001b[0m     \u001b[43mdbapi_connection\u001b[49m\u001b[38;5;241;43m.\u001b[39;49m\u001b[43mcommit\u001b[49m\u001b[43m(\u001b[49m\u001b[43m)\u001b[49m\n",
      "\u001b[1;31mOperationalError\u001b[0m: (sqlite3.OperationalError) cannot commit transaction - SQL statements in progress\n(Background on this error at: https://sqlalche.me/e/20/e3q8)"
     ]
    }
   ],
   "source": [
    "with engine.connect() as conn:\n",
    "    result = conn.execute(insert_stmt.returning(address_table.c.id, address_table.c.email_address))\n",
    "    conn.commit()\n",
    "    print(result)"
   ]
  },
  {
   "cell_type": "code",
   "execution_count": 78,
   "id": "efe2c6c7",
   "metadata": {},
   "outputs": [
    {
     "data": {
      "text/plain": [
       "RMKeyView(['id', 'email_address'])"
      ]
     },
     "execution_count": 78,
     "metadata": {},
     "output_type": "execute_result"
    }
   ],
   "source": [
    "result.keys()"
   ]
  },
  {
   "cell_type": "code",
   "execution_count": 83,
   "id": "acb7fa9b",
   "metadata": {},
   "outputs": [
    {
     "data": {
      "text/plain": [
       "[(4, 'spongebob@aol.com'),\n",
       " (5, 'spongebob@aol.com'),\n",
       " (6, 'clark@aol.com'),\n",
       " (7, 'sandy@aol.com'),\n",
       " (8, 'patrick@aol.com'),\n",
       " (9, 'sandy@aol.com'),\n",
       " (10, 'patrick@aol.com')]"
      ]
     },
     "execution_count": 83,
     "metadata": {},
     "output_type": "execute_result"
    }
   ],
   "source": [
    "result.all()"
   ]
  },
  {
   "cell_type": "code",
   "execution_count": null,
   "id": "0ceedd1c",
   "metadata": {},
   "outputs": [],
   "source": []
  },
  {
   "cell_type": "code",
   "execution_count": 84,
   "id": "83f38874",
   "metadata": {},
   "outputs": [],
   "source": [
    "from sqlalchemy import select"
   ]
  },
  {
   "cell_type": "code",
   "execution_count": 85,
   "id": "9cd6e399",
   "metadata": {},
   "outputs": [
    {
     "name": "stdout",
     "output_type": "stream",
     "text": [
      "SELECT user_account.id, user_account.name, user_account.fullname \n",
      "FROM user_account \n",
      "WHERE user_account.name = :name_1\n"
     ]
    }
   ],
   "source": [
    "stmt = select(user_table).where(user_table.c.name == \"spongebob\")\n",
    "print(stmt)"
   ]
  },
  {
   "cell_type": "code",
   "execution_count": 86,
   "id": "a2b8a3df",
   "metadata": {},
   "outputs": [
    {
     "name": "stdout",
     "output_type": "stream",
     "text": [
      "2023-10-31 13:58:48,933 INFO sqlalchemy.engine.Engine BEGIN (implicit)\n",
      "2023-10-31 13:58:48,934 INFO sqlalchemy.engine.Engine SELECT user_account.id, user_account.name, user_account.fullname \n",
      "FROM user_account \n",
      "WHERE user_account.name = ?\n",
      "2023-10-31 13:58:48,935 INFO sqlalchemy.engine.Engine [generated in 0.00199s] ('spongebob',)\n",
      "(1, 'spongebob', 'Spongebob Squarepants')\n",
      "(2, 'spongebob', 'Spongebob Squarepants')\n",
      "2023-10-31 13:58:48,936 INFO sqlalchemy.engine.Engine ROLLBACK\n"
     ]
    }
   ],
   "source": [
    "with engine.connect() as conn:\n",
    "    for row in conn.execute(stmt):\n",
    "        print(row)"
   ]
  },
  {
   "cell_type": "code",
   "execution_count": 88,
   "id": "0aeedbe5",
   "metadata": {},
   "outputs": [],
   "source": [
    "from sqlalchemy.orm import Session"
   ]
  },
  {
   "cell_type": "code",
   "execution_count": 89,
   "id": "9e010f09",
   "metadata": {},
   "outputs": [
    {
     "name": "stdout",
     "output_type": "stream",
     "text": [
      "2023-10-31 14:00:06,783 INFO sqlalchemy.engine.Engine BEGIN (implicit)\n",
      "2023-10-31 14:00:06,788 INFO sqlalchemy.engine.Engine SELECT user_account.id, user_account.name, user_account.fullname \n",
      "FROM user_account \n",
      "WHERE user_account.name = ?\n",
      "2023-10-31 14:00:06,790 INFO sqlalchemy.engine.Engine [generated in 0.00239s] ('spongebob',)\n",
      "(User(id=1), name='spongebob',)\n",
      "(User(id=2), name='spongebob',)\n",
      "2023-10-31 14:00:06,794 INFO sqlalchemy.engine.Engine ROLLBACK\n"
     ]
    }
   ],
   "source": [
    "stmt = select(User).where(User.name == \"spongebob\")\n",
    "with Session(engine) as session:\n",
    "    for row in session.execute(stmt):\n",
    "        print(row)"
   ]
  },
  {
   "cell_type": "code",
   "execution_count": null,
   "id": "9b43a6cd",
   "metadata": {},
   "outputs": [],
   "source": []
  },
  {
   "cell_type": "code",
   "execution_count": 90,
   "id": "7b94ca01",
   "metadata": {},
   "outputs": [
    {
     "name": "stdout",
     "output_type": "stream",
     "text": [
      "SELECT user_account.id, user_account.name, user_account.fullname \n",
      "FROM user_account\n"
     ]
    }
   ],
   "source": [
    "# the FROM is infered\n",
    "print(select(user_table))"
   ]
  },
  {
   "cell_type": "code",
   "execution_count": 91,
   "id": "d7a55bec",
   "metadata": {},
   "outputs": [
    {
     "name": "stdout",
     "output_type": "stream",
     "text": [
      "SELECT user_account.name, user_account.fullname \n",
      "FROM user_account\n"
     ]
    }
   ],
   "source": [
    "# the FROM is infered\n",
    "print(select(user_table.c.name, user_table.c.fullname))"
   ]
  },
  {
   "cell_type": "code",
   "execution_count": 92,
   "id": "416b3c3a",
   "metadata": {},
   "outputs": [
    {
     "name": "stdout",
     "output_type": "stream",
     "text": [
      "SELECT user_account.name, user_account.fullname \n",
      "FROM user_account\n"
     ]
    }
   ],
   "source": [
    "# use a tuple of string names\n",
    "print(select(user_table.c[\"name\", \"fullname\"]))"
   ]
  },
  {
   "cell_type": "code",
   "execution_count": 94,
   "id": "4384daab",
   "metadata": {},
   "outputs": [
    {
     "name": "stdout",
     "output_type": "stream",
     "text": [
      "SELECT user_account.name, user_account.fullname \n",
      "FROM user_account\n"
     ]
    }
   ],
   "source": [
    "my_c_tupple = (\"name\", \"fullname\")\n",
    "print(select(user_table.c[my_c_tupple]))"
   ]
  },
  {
   "cell_type": "code",
   "execution_count": 95,
   "id": "8eea405b",
   "metadata": {},
   "outputs": [
    {
     "name": "stdout",
     "output_type": "stream",
     "text": [
      "SELECT user_account.id, user_account.name, user_account.fullname \n",
      "FROM user_account\n"
     ]
    }
   ],
   "source": [
    "# with ORM entities\n",
    "print(select(User))"
   ]
  },
  {
   "cell_type": "code",
   "execution_count": 96,
   "id": "62176e5e",
   "metadata": {},
   "outputs": [
    {
     "name": "stdout",
     "output_type": "stream",
     "text": [
      "2023-10-31 14:05:23,911 INFO sqlalchemy.engine.Engine BEGIN (implicit)\n",
      "2023-10-31 14:05:23,913 INFO sqlalchemy.engine.Engine SELECT user_account.id, user_account.name, user_account.fullname \n",
      "FROM user_account\n",
      "2023-10-31 14:05:23,914 INFO sqlalchemy.engine.Engine [generated in 0.00120s] ()\n"
     ]
    },
    {
     "data": {
      "text/plain": [
       "(User(id=1), name='spongebob',)"
      ]
     },
     "execution_count": 96,
     "metadata": {},
     "output_type": "execute_result"
    }
   ],
   "source": [
    "# with ORM : each row is a single element (of the class, I think) (one element per class)\n",
    "row = session.execute(select(User)).first()\n",
    "row"
   ]
  },
  {
   "cell_type": "code",
   "execution_count": 97,
   "id": "562f13aa",
   "metadata": {},
   "outputs": [
    {
     "name": "stdout",
     "output_type": "stream",
     "text": [
      "2023-10-31 14:07:26,048 INFO sqlalchemy.engine.Engine SELECT user_account.id, user_account.name, user_account.fullname \n",
      "FROM user_account\n",
      "2023-10-31 14:07:26,049 INFO sqlalchemy.engine.Engine [cached since 122.1s ago] ()\n"
     ]
    },
    {
     "data": {
      "text/plain": [
       "User(id=1), name='spongebob'"
      ]
     },
     "execution_count": 97,
     "metadata": {},
     "output_type": "execute_result"
    }
   ],
   "source": [
    "user = session.scalars(select(User)).first()\n",
    "user"
   ]
  },
  {
   "cell_type": "code",
   "execution_count": null,
   "id": "acd078e9",
   "metadata": {},
   "outputs": [],
   "source": []
  }
 ],
 "metadata": {
  "kernelspec": {
   "display_name": "Python [conda env:WEB]",
   "language": "python",
   "name": "conda-env-WEB-py"
  },
  "language_info": {
   "codemirror_mode": {
    "name": "ipython",
    "version": 3
   },
   "file_extension": ".py",
   "mimetype": "text/x-python",
   "name": "python",
   "nbconvert_exporter": "python",
   "pygments_lexer": "ipython3",
   "version": "3.11.3"
  }
 },
 "nbformat": 4,
 "nbformat_minor": 5
}
