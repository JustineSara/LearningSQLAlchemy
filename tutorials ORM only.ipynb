{
 "cells": [
  {
   "cell_type": "code",
   "execution_count": 1,
   "id": "69c2447c",
   "metadata": {},
   "outputs": [],
   "source": [
    "import sqlalchemy"
   ]
  },
  {
   "cell_type": "code",
   "execution_count": 2,
   "id": "4b640291",
   "metadata": {},
   "outputs": [
    {
     "data": {
      "text/plain": [
       "'2.0.21'"
      ]
     },
     "execution_count": 2,
     "metadata": {},
     "output_type": "execute_result"
    }
   ],
   "source": [
    "sqlalchemy.__version__"
   ]
  },
  {
   "cell_type": "code",
   "execution_count": null,
   "id": "3c5e463e",
   "metadata": {},
   "outputs": [],
   "source": []
  },
  {
   "cell_type": "code",
   "execution_count": null,
   "id": "94db82a8",
   "metadata": {},
   "outputs": [],
   "source": []
  },
  {
   "cell_type": "code",
   "execution_count": 16,
   "id": "1ec10d7f",
   "metadata": {},
   "outputs": [],
   "source": [
    "from sqlalchemy.orm import Session\n",
    "\n",
    "from sqlalchemy.orm import DeclarativeBase\n",
    "from sqlalchemy.orm import Mapped\n",
    "from sqlalchemy.orm import mapped_column\n",
    "from sqlalchemy.orm import relationship"
   ]
  },
  {
   "cell_type": "code",
   "execution_count": 17,
   "id": "94f8eba6",
   "metadata": {},
   "outputs": [],
   "source": [
    "from sqlalchemy import create_engine\n",
    "from sqlalchemy import text\n",
    "\n",
    "from sqlalchemy import String\n",
    "from sqlalchemy import ForeignKey"
   ]
  },
  {
   "cell_type": "code",
   "execution_count": 18,
   "id": "1283630b",
   "metadata": {},
   "outputs": [],
   "source": [
    "from typing import List\n",
    "from typing import Optional\n",
    "\n"
   ]
  },
  {
   "cell_type": "markdown",
   "id": "0e182e83",
   "metadata": {},
   "source": [
    "# engine (always needed?)"
   ]
  },
  {
   "cell_type": "code",
   "execution_count": 7,
   "id": "cc5cebb0",
   "metadata": {},
   "outputs": [
    {
     "data": {
      "text/plain": [
       "Engine(sqlite+pysqlite:///:memory:)"
      ]
     },
     "execution_count": 7,
     "metadata": {},
     "output_type": "execute_result"
    }
   ],
   "source": [
    "engine = create_engine(\"sqlite+pysqlite:///:memory:\", echo=True)\n",
    "\n",
    "# type of DB  +  BDAPI :///: DB location\n",
    "\n",
    "engine"
   ]
  },
  {
   "cell_type": "code",
   "execution_count": null,
   "id": "6d562488",
   "metadata": {},
   "outputs": [],
   "source": []
  },
  {
   "cell_type": "markdown",
   "id": "ce38d9d3",
   "metadata": {},
   "source": [
    "# using Session, execute, commit and result"
   ]
  },
  {
   "cell_type": "code",
   "execution_count": null,
   "id": "2fa721df",
   "metadata": {},
   "outputs": [],
   "source": [
    "with Session(engine) as session:\n",
    "    session.execute(text(\"CREATE TABLE some_table (x int, y int)\"))"
   ]
  },
  {
   "cell_type": "code",
   "execution_count": 13,
   "id": "562d331e",
   "metadata": {},
   "outputs": [
    {
     "name": "stdout",
     "output_type": "stream",
     "text": [
      "2023-10-31 13:26:04,606 INFO sqlalchemy.engine.Engine BEGIN (implicit)\n",
      "2023-10-31 13:26:04,607 INFO sqlalchemy.engine.Engine INSERT INTO some_table (x, y) VALUES (?, ?)\n",
      "2023-10-31 13:26:04,608 INFO sqlalchemy.engine.Engine [cached since 68.33s ago] [(1, 1), (2, 4)]\n",
      "2023-10-31 13:26:04,610 INFO sqlalchemy.engine.Engine COMMIT\n"
     ]
    }
   ],
   "source": [
    "# need to commit as we go, otherwise rollback\n",
    "with Session(engine) as session:\n",
    "    session.execute(\n",
    "        text(\"INSERT INTO some_table (x, y) VALUES (:x, :y)\"),\n",
    "        [{\"x\": 1, \"y\": 1}, {\"x\": 2, \"y\": 4}],\n",
    "    )\n",
    "    session.commit()"
   ]
  },
  {
   "cell_type": "code",
   "execution_count": 15,
   "id": "b0ff6c3b",
   "metadata": {},
   "outputs": [
    {
     "name": "stdout",
     "output_type": "stream",
     "text": [
      "2023-10-31 13:26:13,452 INFO sqlalchemy.engine.Engine BEGIN (implicit)\n",
      "2023-10-31 13:26:13,453 INFO sqlalchemy.engine.Engine SELECT x, y FROM some_table WHERE y > ? ORDER BY x, y\n",
      "2023-10-31 13:26:13,454 INFO sqlalchemy.engine.Engine [cached since 133.4s ago] (1,)\n",
      "\tx: 2  y: 4\n",
      "2023-10-31 13:26:13,457 INFO sqlalchemy.engine.Engine ROLLBACK\n"
     ]
    }
   ],
   "source": [
    "stmt = text(\"SELECT x, y FROM some_table WHERE y > :y ORDER BY x, y\")\n",
    "with Session(engine) as session:\n",
    "    result = session.execute(stmt, {\"y\": 1})\n",
    "    for row in result:\n",
    "        print(f\"\\tx: {row.x}  y: {row.y}\")"
   ]
  },
  {
   "cell_type": "code",
   "execution_count": null,
   "id": "bdab459e",
   "metadata": {},
   "outputs": [],
   "source": []
  },
  {
   "cell_type": "markdown",
   "id": "122bc197",
   "metadata": {},
   "source": [
    "# MetaData"
   ]
  },
  {
   "cell_type": "code",
   "execution_count": 19,
   "id": "344bc199",
   "metadata": {},
   "outputs": [],
   "source": [
    "class Base(DeclarativeBase):\n",
    "    pass"
   ]
  },
  {
   "cell_type": "code",
   "execution_count": 20,
   "id": "c7b06756",
   "metadata": {},
   "outputs": [],
   "source": [
    "class User(Base):\n",
    "    __tablename__ = \"user_account\"\n",
    "    \n",
    "    id: Mapped[int] = mapped_column(primary_key=True)\n",
    "    name: Mapped[str] = mapped_column(String(30))\n",
    "    fullname: Mapped[Optional[str]]   # can be null\n",
    "        \n",
    "    addresses: Mapped[List[\"Address\"]] = relationship(back_populates=\"user\")\n",
    "    \n",
    "    def __repr__(self) -> str:\n",
    "        return f\"User(id={self.id!r}), name={self.name!r}, fullname={self.fullname!r})\"\n",
    "    \n",
    "class Address(Base):\n",
    "    __tablename__ = \"address\"\n",
    "    \n",
    "    id: Mapped[int] = mapped_column(primary_key=True)\n",
    "    user_id: Mapped[int] = mapped_column(ForeignKey(\"user_account.id\"))\n",
    "    email_address: Mapped[str]\n",
    "        \n",
    "    user: Mapped[User] = relationship(back_populates=\"addresses\")\n",
    "        \n",
    "    def __repr__(self) -> str:\n",
    "        return f\"Address(id={self.id!r}, email_address={self.email_address!r})\""
   ]
  },
  {
   "cell_type": "code",
   "execution_count": 22,
   "id": "18fd6891",
   "metadata": {},
   "outputs": [
    {
     "name": "stdout",
     "output_type": "stream",
     "text": [
      "user_account\n",
      "address\n"
     ]
    }
   ],
   "source": [
    "for t in Base.metadata.sorted_tables:\n",
    "    print(t)"
   ]
  },
  {
   "cell_type": "code",
   "execution_count": 23,
   "id": "243a2f3e",
   "metadata": {},
   "outputs": [
    {
     "name": "stdout",
     "output_type": "stream",
     "text": [
      "2023-10-31 13:29:58,715 INFO sqlalchemy.engine.Engine BEGIN (implicit)\n",
      "2023-10-31 13:29:58,716 INFO sqlalchemy.engine.Engine PRAGMA main.table_info(\"user_account\")\n",
      "2023-10-31 13:29:58,717 INFO sqlalchemy.engine.Engine [raw sql] ()\n",
      "2023-10-31 13:29:58,719 INFO sqlalchemy.engine.Engine PRAGMA temp.table_info(\"user_account\")\n",
      "2023-10-31 13:29:58,720 INFO sqlalchemy.engine.Engine [raw sql] ()\n",
      "2023-10-31 13:29:58,721 INFO sqlalchemy.engine.Engine PRAGMA main.table_info(\"address\")\n",
      "2023-10-31 13:29:58,721 INFO sqlalchemy.engine.Engine [raw sql] ()\n",
      "2023-10-31 13:29:58,722 INFO sqlalchemy.engine.Engine PRAGMA temp.table_info(\"address\")\n",
      "2023-10-31 13:29:58,723 INFO sqlalchemy.engine.Engine [raw sql] ()\n",
      "2023-10-31 13:29:58,726 INFO sqlalchemy.engine.Engine \n",
      "CREATE TABLE user_account (\n",
      "\tid INTEGER NOT NULL, \n",
      "\tname VARCHAR(30) NOT NULL, \n",
      "\tfullname VARCHAR, \n",
      "\tPRIMARY KEY (id)\n",
      ")\n",
      "\n",
      "\n",
      "2023-10-31 13:29:58,726 INFO sqlalchemy.engine.Engine [no key 0.00087s] ()\n",
      "2023-10-31 13:29:58,728 INFO sqlalchemy.engine.Engine \n",
      "CREATE TABLE address (\n",
      "\tid INTEGER NOT NULL, \n",
      "\tuser_id INTEGER NOT NULL, \n",
      "\temail_address VARCHAR NOT NULL, \n",
      "\tPRIMARY KEY (id), \n",
      "\tFOREIGN KEY(user_id) REFERENCES user_account (id)\n",
      ")\n",
      "\n",
      "\n",
      "2023-10-31 13:29:58,728 INFO sqlalchemy.engine.Engine [no key 0.00057s] ()\n",
      "2023-10-31 13:29:58,730 INFO sqlalchemy.engine.Engine COMMIT\n"
     ]
    }
   ],
   "source": [
    "Base.metadata.create_all(engine)"
   ]
  },
  {
   "cell_type": "code",
   "execution_count": null,
   "id": "63f05487",
   "metadata": {},
   "outputs": [],
   "source": []
  }
 ],
 "metadata": {
  "kernelspec": {
   "display_name": "Python [conda env:WEB]",
   "language": "python",
   "name": "conda-env-WEB-py"
  },
  "language_info": {
   "codemirror_mode": {
    "name": "ipython",
    "version": 3
   },
   "file_extension": ".py",
   "mimetype": "text/x-python",
   "name": "python",
   "nbconvert_exporter": "python",
   "pygments_lexer": "ipython3",
   "version": "3.11.3"
  }
 },
 "nbformat": 4,
 "nbformat_minor": 5
}
